{
 "cells": [
  {
   "cell_type": "code",
   "execution_count": 1,
   "id": "c14d6876-a115-463c-bf0b-a0d06ff6b36a",
   "metadata": {
    "tags": []
   },
   "outputs": [
    {
     "name": "stdout",
     "output_type": "stream",
     "text": [
      "\u001b[33mWARNING: Skipping torchaudio as it is not installed.\u001b[0m\u001b[33m\n",
      "\u001b[0m\u001b[33mWARNING: Running pip as the 'root' user can result in broken permissions and conflicting behaviour with the system package manager. It is recommended to use a virtual environment instead: https://pip.pypa.io/warnings/venv\u001b[0m\u001b[33m\n",
      "\u001b[0mRequirement already satisfied: composer[nlp,wandb]<0.15,>=0.14.1 in /usr/local/lib/python3.10/dist-packages (0.14.1)\n",
      "Requirement already satisfied: mosaicml-streaming<0.5,>=0.4.1 in /usr/local/lib/python3.10/dist-packages (0.4.1)\n",
      "Requirement already satisfied: torch==1.13.1 in /usr/local/lib/python3.10/dist-packages (1.13.1)\n",
      "Requirement already satisfied: datasets==2.10.1 in /usr/local/lib/python3.10/dist-packages (2.10.1)\n",
      "Requirement already satisfied: sentencepiece==0.1.97 in /usr/local/lib/python3.10/dist-packages (0.1.97)\n",
      "Requirement already satisfied: einops==0.5.0 in /usr/local/lib/python3.10/dist-packages (0.5.0)\n",
      "Requirement already satisfied: omegaconf<3,>=2.2.3 in /usr/local/lib/python3.10/dist-packages (2.3.0)\n",
      "Requirement already satisfied: slack-sdk<4 in /usr/local/lib/python3.10/dist-packages (3.21.3)\n",
      "Requirement already satisfied: mosaicml-cli<1,>=0.3 in /usr/local/lib/python3.10/dist-packages (0.4.2)\n",
      "Requirement already satisfied: onnx==1.13.1 in /usr/local/lib/python3.10/dist-packages (1.13.1)\n",
      "Requirement already satisfied: onnxruntime==1.14.1 in /usr/local/lib/python3.10/dist-packages (1.14.1)\n",
      "Requirement already satisfied: langchain==0.0.169 in /usr/local/lib/python3.10/dist-packages (0.0.169)\n",
      "Requirement already satisfied: bitsandbytes==0.35.0 in /usr/local/lib/python3.10/dist-packages (0.35.0)\n",
      "Requirement already satisfied: accelerate==0.18.0 in /usr/local/lib/python3.10/dist-packages (0.18.0)\n",
      "Requirement already satisfied: peft==0.2.0 in /usr/local/lib/python3.10/dist-packages (0.2.0)\n",
      "Collecting sentence-transformers==2.2.2\n",
      "  Downloading sentence-transformers-2.2.2.tar.gz (85 kB)\n",
      "\u001b[2K     \u001b[90m━━━━━━━━━━━━━━━━━━━━━━━━━━━━━━━━━━━━━━━━\u001b[0m \u001b[32m86.0/86.0 kB\u001b[0m \u001b[31m20.1 MB/s\u001b[0m eta \u001b[36m0:00:00\u001b[0m\n",
      "\u001b[?25h  Preparing metadata (setup.py) ... \u001b[?25ldone\n",
      "\u001b[?25hRequirement already satisfied: nvidia-cudnn-cu11==8.5.0.96 in /usr/local/lib/python3.10/dist-packages (from torch==1.13.1) (8.5.0.96)\n",
      "Requirement already satisfied: typing-extensions in /usr/local/lib/python3.10/dist-packages (from torch==1.13.1) (4.5.0)\n",
      "Requirement already satisfied: nvidia-cuda-runtime-cu11==11.7.99 in /usr/local/lib/python3.10/dist-packages (from torch==1.13.1) (11.7.99)\n",
      "Requirement already satisfied: nvidia-cublas-cu11==11.10.3.66 in /usr/local/lib/python3.10/dist-packages (from torch==1.13.1) (11.10.3.66)\n",
      "Requirement already satisfied: nvidia-cuda-nvrtc-cu11==11.7.99 in /usr/local/lib/python3.10/dist-packages (from torch==1.13.1) (11.7.99)\n",
      "Requirement already satisfied: fsspec[http]>=2021.11.1 in /usr/local/lib/python3.10/dist-packages (from datasets==2.10.1) (2023.5.0)\n",
      "Requirement already satisfied: pandas in /usr/local/lib/python3.10/dist-packages (from datasets==2.10.1) (2.0.1)\n",
      "Requirement already satisfied: dill<0.3.7,>=0.3.0 in /usr/local/lib/python3.10/dist-packages (from datasets==2.10.1) (0.3.6)\n",
      "Requirement already satisfied: huggingface-hub<1.0.0,>=0.2.0 in /usr/local/lib/python3.10/dist-packages (from datasets==2.10.1) (0.14.1)\n",
      "Requirement already satisfied: xxhash in /usr/local/lib/python3.10/dist-packages (from datasets==2.10.1) (3.2.0)\n",
      "Requirement already satisfied: tqdm>=4.62.1 in /usr/local/lib/python3.10/dist-packages (from datasets==2.10.1) (4.65.0)\n",
      "Requirement already satisfied: aiohttp in /usr/local/lib/python3.10/dist-packages (from datasets==2.10.1) (3.8.4)\n",
      "Requirement already satisfied: responses<0.19 in /usr/local/lib/python3.10/dist-packages (from datasets==2.10.1) (0.18.0)\n",
      "Requirement already satisfied: requests>=2.19.0 in /usr/local/lib/python3.10/dist-packages (from datasets==2.10.1) (2.28.2)\n",
      "Requirement already satisfied: packaging in /usr/local/lib/python3.10/dist-packages (from datasets==2.10.1) (22.0)\n",
      "Requirement already satisfied: pyyaml>=5.1 in /usr/local/lib/python3.10/dist-packages (from datasets==2.10.1) (6.0)\n",
      "Requirement already satisfied: multiprocess in /usr/local/lib/python3.10/dist-packages (from datasets==2.10.1) (0.70.14)\n",
      "Requirement already satisfied: numpy>=1.17 in /usr/local/lib/python3.10/dist-packages (from datasets==2.10.1) (1.24.2)\n",
      "Requirement already satisfied: pyarrow>=6.0.0 in /usr/local/lib/python3.10/dist-packages (from datasets==2.10.1) (12.0.0)\n",
      "Requirement already satisfied: protobuf<4,>=3.20.2 in /usr/local/lib/python3.10/dist-packages (from onnx==1.13.1) (3.20.3)\n",
      "Requirement already satisfied: sympy in /usr/local/lib/python3.10/dist-packages (from onnxruntime==1.14.1) (1.11.1)\n",
      "Requirement already satisfied: flatbuffers in /usr/local/lib/python3.10/dist-packages (from onnxruntime==1.14.1) (23.5.9)\n",
      "Requirement already satisfied: coloredlogs in /usr/local/lib/python3.10/dist-packages (from onnxruntime==1.14.1) (15.0.1)\n",
      "Requirement already satisfied: dataclasses-json<0.6.0,>=0.5.7 in /usr/local/lib/python3.10/dist-packages (from langchain==0.0.169) (0.5.7)\n",
      "Requirement already satisfied: openapi-schema-pydantic<2.0,>=1.2 in /usr/local/lib/python3.10/dist-packages (from langchain==0.0.169) (1.2.4)\n",
      "Requirement already satisfied: async-timeout<5.0.0,>=4.0.0 in /usr/local/lib/python3.10/dist-packages (from langchain==0.0.169) (4.0.2)\n",
      "Requirement already satisfied: tenacity<9.0.0,>=8.1.0 in /usr/local/lib/python3.10/dist-packages (from langchain==0.0.169) (8.2.2)\n",
      "Requirement already satisfied: numexpr<3.0.0,>=2.8.4 in /usr/local/lib/python3.10/dist-packages (from langchain==0.0.169) (2.8.4)\n",
      "Requirement already satisfied: pydantic<2,>=1 in /usr/local/lib/python3.10/dist-packages (from langchain==0.0.169) (1.10.8)\n",
      "Requirement already satisfied: SQLAlchemy<3,>=1.4 in /usr/local/lib/python3.10/dist-packages (from langchain==0.0.169) (2.0.15)\n",
      "Requirement already satisfied: psutil in /usr/local/lib/python3.10/dist-packages (from accelerate==0.18.0) (5.9.4)\n",
      "Requirement already satisfied: transformers in /usr/local/lib/python3.10/dist-packages (from peft==0.2.0) (4.28.1)\n",
      "Requirement already satisfied: torchvision in /usr/local/lib/python3.10/dist-packages (from sentence-transformers==2.2.2) (0.14.1)\n",
      "Collecting scikit-learn\n",
      "  Downloading scikit_learn-1.2.2-cp310-cp310-manylinux_2_17_x86_64.manylinux2014_x86_64.whl (9.6 MB)\n",
      "\u001b[2K     \u001b[90m━━━━━━━━━━━━━━━━━━━━━━━━━━━━━━━━━━━━━━━━\u001b[0m \u001b[32m9.6/9.6 MB\u001b[0m \u001b[31m55.5 MB/s\u001b[0m eta \u001b[36m0:00:00\u001b[0ma \u001b[36m0:00:01\u001b[0m\n",
      "\u001b[?25hCollecting scipy\n",
      "  Downloading scipy-1.10.1-cp310-cp310-manylinux_2_17_x86_64.manylinux2014_x86_64.whl (34.4 MB)\n",
      "\u001b[2K     \u001b[90m━━━━━━━━━━━━━━━━━━━━━━━━━━━━━━━━━━━━━━━━\u001b[0m \u001b[32m34.4/34.4 MB\u001b[0m \u001b[31m61.6 MB/s\u001b[0m eta \u001b[36m0:00:00\u001b[0m00:01\u001b[0m00:01\u001b[0m\n",
      "\u001b[?25hCollecting nltk\n",
      "  Downloading nltk-3.8.1-py3-none-any.whl (1.5 MB)\n",
      "\u001b[2K     \u001b[90m━━━━━━━━━━━━━━━━━━━━━━━━━━━━━━━━━━━━━━━━\u001b[0m \u001b[32m1.5/1.5 MB\u001b[0m \u001b[31m109.8 MB/s\u001b[0m eta \u001b[36m0:00:00\u001b[0m\n",
      "\u001b[?25hRequirement already satisfied: setuptools in /usr/local/lib/python3.10/dist-packages (from nvidia-cublas-cu11==11.10.3.66->torch==1.13.1) (67.6.1)\n",
      "Requirement already satisfied: wheel in /usr/local/lib/python3.10/dist-packages (from nvidia-cublas-cu11==11.10.3.66->torch==1.13.1) (0.40.0)\n",
      "Requirement already satisfied: torch-optimizer<0.4,>=0.3.0 in /usr/local/lib/python3.10/dist-packages (from composer[nlp,wandb]<0.15,>=0.14.1) (0.3.0)\n",
      "Requirement already satisfied: tabulate==0.9.0 in /usr/local/lib/python3.10/dist-packages (from composer[nlp,wandb]<0.15,>=0.14.1) (0.9.0)\n",
      "Requirement already satisfied: importlib-metadata<7,>=5.0.0 in /usr/local/lib/python3.10/dist-packages (from composer[nlp,wandb]<0.15,>=0.14.1) (6.6.0)\n",
      "Requirement already satisfied: coolname<3,>=1.1.0 in /usr/local/lib/python3.10/dist-packages (from composer[nlp,wandb]<0.15,>=0.14.1) (2.2.0)\n",
      "Requirement already satisfied: torchmetrics<0.11.4,>=0.10.0 in /usr/local/lib/python3.10/dist-packages (from composer[nlp,wandb]<0.15,>=0.14.1) (0.11.3)\n",
      "Requirement already satisfied: py-cpuinfo<10,>=8.0.0 in /usr/local/lib/python3.10/dist-packages (from composer[nlp,wandb]<0.15,>=0.14.1) (9.0.0)\n",
      "Requirement already satisfied: wandb<0.16,>=0.13.2 in /usr/local/lib/python3.10/dist-packages (from composer[nlp,wandb]<0.15,>=0.14.1) (0.15.3)\n",
      "Requirement already satisfied: Brotli>=1.0.9 in /usr/local/lib/python3.10/dist-packages (from mosaicml-streaming<0.5,>=0.4.1) (1.0.9)\n",
      "Requirement already satisfied: python-snappy<1,>=0.6.1 in /usr/local/lib/python3.10/dist-packages (from mosaicml-streaming<0.5,>=0.4.1) (0.6.1)\n",
      "Requirement already satisfied: torchtext>=0.10 in /usr/local/lib/python3.10/dist-packages (from mosaicml-streaming<0.5,>=0.4.1) (0.14.1)\n",
      "Requirement already satisfied: matplotlib<4,>=3.5.2 in /usr/local/lib/python3.10/dist-packages (from mosaicml-streaming<0.5,>=0.4.1) (3.7.1)\n",
      "Requirement already satisfied: oci<3,>=2.88 in /usr/local/lib/python3.10/dist-packages (from mosaicml-streaming<0.5,>=0.4.1) (2.103.0)\n",
      "Requirement already satisfied: zstd<2,>=1.5.2.5 in /usr/local/lib/python3.10/dist-packages (from mosaicml-streaming<0.5,>=0.4.1) (1.5.5.1)\n",
      "Requirement already satisfied: paramiko<4,>=2.11.0 in /usr/local/lib/python3.10/dist-packages (from mosaicml-streaming<0.5,>=0.4.1) (3.1.0)\n",
      "Requirement already satisfied: boto3<2,>=1.21.45 in /usr/local/lib/python3.10/dist-packages (from mosaicml-streaming<0.5,>=0.4.1) (1.26.139)\n",
      "Requirement already satisfied: antlr4-python3-runtime==4.9.* in /usr/local/lib/python3.10/dist-packages (from omegaconf<3,>=2.2.3) (4.9.3)\n",
      "Requirement already satisfied: backoff>=2.2.1 in /usr/local/lib/python3.10/dist-packages (from mosaicml-cli<1,>=0.3) (2.2.1)\n",
      "Requirement already satisfied: argcomplete>=2.0.0 in /usr/local/lib/python3.10/dist-packages (from mosaicml-cli<1,>=0.3) (3.0.8)\n",
      "Requirement already satisfied: arrow>=1.2.2 in /usr/local/lib/python3.10/dist-packages (from mosaicml-cli<1,>=0.3) (1.2.3)\n",
      "Requirement already satisfied: ruamel.yaml>=0.17.21 in /usr/local/lib/python3.10/dist-packages (from mosaicml-cli<1,>=0.3) (0.17.26)\n",
      "Requirement already satisfied: questionary>=1.10.0 in /usr/local/lib/python3.10/dist-packages (from mosaicml-cli<1,>=0.3) (1.10.0)\n",
      "Requirement already satisfied: gql[websockets]>=3.4.0 in /usr/local/lib/python3.10/dist-packages (from mosaicml-cli<1,>=0.3) (3.4.1)\n",
      "Requirement already satisfied: docker>=5.0.3 in /usr/local/lib/python3.10/dist-packages (from mosaicml-cli<1,>=0.3) (6.1.2)\n",
      "Requirement already satisfied: validators>=0.20.0 in /usr/local/lib/python3.10/dist-packages (from mosaicml-cli<1,>=0.3) (0.20.0)\n",
      "Requirement already satisfied: prompt-toolkit>=3.0.29 in /usr/local/lib/python3.10/dist-packages (from mosaicml-cli<1,>=0.3) (3.0.38)\n",
      "Requirement already satisfied: rich>=10.16.2 in /usr/local/lib/python3.10/dist-packages (from mosaicml-cli<1,>=0.3) (13.3.5)\n",
      "Requirement already satisfied: multidict<7.0,>=4.5 in /usr/local/lib/python3.10/dist-packages (from aiohttp->datasets==2.10.1) (6.0.4)\n",
      "Requirement already satisfied: attrs>=17.3.0 in /usr/local/lib/python3.10/dist-packages (from aiohttp->datasets==2.10.1) (22.2.0)\n",
      "Requirement already satisfied: charset-normalizer<4.0,>=2.0 in /usr/local/lib/python3.10/dist-packages (from aiohttp->datasets==2.10.1) (3.1.0)\n",
      "Requirement already satisfied: yarl<2.0,>=1.0 in /usr/local/lib/python3.10/dist-packages (from aiohttp->datasets==2.10.1) (1.9.2)\n",
      "Requirement already satisfied: frozenlist>=1.1.1 in /usr/local/lib/python3.10/dist-packages (from aiohttp->datasets==2.10.1) (1.3.3)\n",
      "Requirement already satisfied: aiosignal>=1.1.2 in /usr/local/lib/python3.10/dist-packages (from aiohttp->datasets==2.10.1) (1.3.1)\n",
      "Requirement already satisfied: python-dateutil>=2.7.0 in /usr/local/lib/python3.10/dist-packages (from arrow>=1.2.2->mosaicml-cli<1,>=0.3) (2.8.2)\n",
      "Requirement already satisfied: botocore<1.30.0,>=1.29.139 in /usr/local/lib/python3.10/dist-packages (from boto3<2,>=1.21.45->mosaicml-streaming<0.5,>=0.4.1) (1.29.139)\n",
      "Requirement already satisfied: s3transfer<0.7.0,>=0.6.0 in /usr/local/lib/python3.10/dist-packages (from boto3<2,>=1.21.45->mosaicml-streaming<0.5,>=0.4.1) (0.6.1)\n",
      "Requirement already satisfied: jmespath<2.0.0,>=0.7.1 in /usr/local/lib/python3.10/dist-packages (from boto3<2,>=1.21.45->mosaicml-streaming<0.5,>=0.4.1) (1.0.1)\n",
      "Requirement already satisfied: marshmallow<4.0.0,>=3.3.0 in /usr/local/lib/python3.10/dist-packages (from dataclasses-json<0.6.0,>=0.5.7->langchain==0.0.169) (3.19.0)\n",
      "Requirement already satisfied: typing-inspect>=0.4.0 in /usr/local/lib/python3.10/dist-packages (from dataclasses-json<0.6.0,>=0.5.7->langchain==0.0.169) (0.8.0)\n",
      "Requirement already satisfied: marshmallow-enum<2.0.0,>=1.5.1 in /usr/local/lib/python3.10/dist-packages (from dataclasses-json<0.6.0,>=0.5.7->langchain==0.0.169) (1.5.1)\n",
      "Requirement already satisfied: urllib3>=1.26.0 in /usr/local/lib/python3.10/dist-packages (from docker>=5.0.3->mosaicml-cli<1,>=0.3) (1.26.16)\n",
      "Requirement already satisfied: websocket-client>=0.32.0 in /usr/local/lib/python3.10/dist-packages (from docker>=5.0.3->mosaicml-cli<1,>=0.3) (1.5.1)\n",
      "Requirement already satisfied: graphql-core<3.3,>=3.2 in /usr/local/lib/python3.10/dist-packages (from gql[websockets]>=3.4.0->mosaicml-cli<1,>=0.3) (3.2.3)\n",
      "Requirement already satisfied: websockets<11,>=10 in /usr/local/lib/python3.10/dist-packages (from gql[websockets]>=3.4.0->mosaicml-cli<1,>=0.3) (10.4)\n",
      "Requirement already satisfied: filelock in /usr/local/lib/python3.10/dist-packages (from huggingface-hub<1.0.0,>=0.2.0->datasets==2.10.1) (3.10.7)\n",
      "Requirement already satisfied: zipp>=0.5 in /usr/local/lib/python3.10/dist-packages (from importlib-metadata<7,>=5.0.0->composer[nlp,wandb]<0.15,>=0.14.1) (3.15.0)\n",
      "Requirement already satisfied: cycler>=0.10 in /usr/local/lib/python3.10/dist-packages (from matplotlib<4,>=3.5.2->mosaicml-streaming<0.5,>=0.4.1) (0.11.0)\n",
      "Requirement already satisfied: kiwisolver>=1.0.1 in /usr/local/lib/python3.10/dist-packages (from matplotlib<4,>=3.5.2->mosaicml-streaming<0.5,>=0.4.1) (1.4.4)\n",
      "Requirement already satisfied: pyparsing>=2.3.1 in /usr/local/lib/python3.10/dist-packages (from matplotlib<4,>=3.5.2->mosaicml-streaming<0.5,>=0.4.1) (3.0.9)\n",
      "Requirement already satisfied: pillow>=6.2.0 in /usr/local/lib/python3.10/dist-packages (from matplotlib<4,>=3.5.2->mosaicml-streaming<0.5,>=0.4.1) (9.4.0)\n",
      "Requirement already satisfied: fonttools>=4.22.0 in /usr/local/lib/python3.10/dist-packages (from matplotlib<4,>=3.5.2->mosaicml-streaming<0.5,>=0.4.1) (4.39.4)\n",
      "Requirement already satisfied: contourpy>=1.0.1 in /usr/local/lib/python3.10/dist-packages (from matplotlib<4,>=3.5.2->mosaicml-streaming<0.5,>=0.4.1) (1.0.7)\n",
      "Requirement already satisfied: circuitbreaker<2.0.0,>=1.3.1 in /usr/local/lib/python3.10/dist-packages (from oci<3,>=2.88->mosaicml-streaming<0.5,>=0.4.1) (1.4.0)\n",
      "Requirement already satisfied: pyOpenSSL<24.0.0,>=17.5.0 in /usr/local/lib/python3.10/dist-packages (from oci<3,>=2.88->mosaicml-streaming<0.5,>=0.4.1) (23.1.1)\n",
      "Requirement already satisfied: certifi in /usr/lib/python3/dist-packages (from oci<3,>=2.88->mosaicml-streaming<0.5,>=0.4.1) (2019.11.28)\n",
      "Requirement already satisfied: pytz>=2016.10 in /usr/local/lib/python3.10/dist-packages (from oci<3,>=2.88->mosaicml-streaming<0.5,>=0.4.1) (2023.3)\n",
      "Requirement already satisfied: cryptography<40.0.0,>=3.2.1 in /usr/local/lib/python3.10/dist-packages (from oci<3,>=2.88->mosaicml-streaming<0.5,>=0.4.1) (39.0.2)\n",
      "Requirement already satisfied: pynacl>=1.5 in /usr/local/lib/python3.10/dist-packages (from paramiko<4,>=2.11.0->mosaicml-streaming<0.5,>=0.4.1) (1.5.0)\n",
      "Requirement already satisfied: bcrypt>=3.2 in /usr/local/lib/python3.10/dist-packages (from paramiko<4,>=2.11.0->mosaicml-streaming<0.5,>=0.4.1) (4.0.1)\n",
      "Requirement already satisfied: wcwidth in /usr/local/lib/python3.10/dist-packages (from prompt-toolkit>=3.0.29->mosaicml-cli<1,>=0.3) (0.2.6)\n",
      "Requirement already satisfied: idna<4,>=2.5 in /usr/lib/python3/dist-packages (from requests>=2.19.0->datasets==2.10.1) (2.8)\n",
      "Requirement already satisfied: markdown-it-py<3.0.0,>=2.2.0 in /usr/local/lib/python3.10/dist-packages (from rich>=10.16.2->mosaicml-cli<1,>=0.3) (2.2.0)\n",
      "Requirement already satisfied: pygments<3.0.0,>=2.13.0 in /usr/local/lib/python3.10/dist-packages (from rich>=10.16.2->mosaicml-cli<1,>=0.3) (2.14.0)\n",
      "Requirement already satisfied: ruamel.yaml.clib>=0.2.7 in /usr/local/lib/python3.10/dist-packages (from ruamel.yaml>=0.17.21->mosaicml-cli<1,>=0.3) (0.2.7)\n",
      "Requirement already satisfied: greenlet!=0.4.17 in /usr/local/lib/python3.10/dist-packages (from SQLAlchemy<3,>=1.4->langchain==0.0.169) (2.0.2)\n",
      "Requirement already satisfied: pytorch-ranger>=0.1.1 in /usr/local/lib/python3.10/dist-packages (from torch-optimizer<0.4,>=0.3.0->composer[nlp,wandb]<0.15,>=0.14.1) (0.1.1)\n",
      "Requirement already satisfied: tokenizers!=0.11.3,<0.14,>=0.11.1 in /usr/local/lib/python3.10/dist-packages (from transformers->peft==0.2.0) (0.13.3)\n",
      "Requirement already satisfied: regex!=2019.12.17 in /usr/local/lib/python3.10/dist-packages (from transformers->peft==0.2.0) (2023.5.5)\n",
      "Requirement already satisfied: decorator>=3.4.0 in /usr/local/lib/python3.10/dist-packages (from validators>=0.20.0->mosaicml-cli<1,>=0.3) (5.1.1)\n",
      "Requirement already satisfied: Click!=8.0.0,>=7.0 in /usr/local/lib/python3.10/dist-packages (from wandb<0.16,>=0.13.2->composer[nlp,wandb]<0.15,>=0.14.1) (8.1.3)\n",
      "Requirement already satisfied: pathtools in /usr/local/lib/python3.10/dist-packages (from wandb<0.16,>=0.13.2->composer[nlp,wandb]<0.15,>=0.14.1) (0.1.2)\n",
      "Requirement already satisfied: appdirs>=1.4.3 in /usr/local/lib/python3.10/dist-packages (from wandb<0.16,>=0.13.2->composer[nlp,wandb]<0.15,>=0.14.1) (1.4.4)\n",
      "Requirement already satisfied: docker-pycreds>=0.4.0 in /usr/local/lib/python3.10/dist-packages (from wandb<0.16,>=0.13.2->composer[nlp,wandb]<0.15,>=0.14.1) (0.4.0)\n",
      "Requirement already satisfied: sentry-sdk>=1.0.0 in /usr/local/lib/python3.10/dist-packages (from wandb<0.16,>=0.13.2->composer[nlp,wandb]<0.15,>=0.14.1) (1.24.0)\n",
      "Requirement already satisfied: GitPython!=3.1.29,>=1.0.0 in /usr/local/lib/python3.10/dist-packages (from wandb<0.16,>=0.13.2->composer[nlp,wandb]<0.15,>=0.14.1) (3.1.31)\n",
      "Requirement already satisfied: setproctitle in /usr/local/lib/python3.10/dist-packages (from wandb<0.16,>=0.13.2->composer[nlp,wandb]<0.15,>=0.14.1) (1.3.2)\n",
      "Requirement already satisfied: humanfriendly>=9.1 in /usr/local/lib/python3.10/dist-packages (from coloredlogs->onnxruntime==1.14.1) (10.0)\n",
      "Collecting joblib\n",
      "  Downloading joblib-1.2.0-py3-none-any.whl (297 kB)\n",
      "\u001b[2K     \u001b[90m━━━━━━━━━━━━━━━━━━━━━━━━━━━━━━━━━━━━━━\u001b[0m \u001b[32m298.0/298.0 kB\u001b[0m \u001b[31m73.8 MB/s\u001b[0m eta \u001b[36m0:00:00\u001b[0m\n",
      "\u001b[?25hRequirement already satisfied: tzdata>=2022.1 in /usr/local/lib/python3.10/dist-packages (from pandas->datasets==2.10.1) (2023.3)\n",
      "Collecting threadpoolctl>=2.0.0\n",
      "  Downloading threadpoolctl-3.1.0-py3-none-any.whl (14 kB)\n",
      "Requirement already satisfied: mpmath>=0.19 in /usr/local/lib/python3.10/dist-packages (from sympy->onnxruntime==1.14.1) (1.3.0)\n",
      "Requirement already satisfied: cffi>=1.12 in /usr/local/lib/python3.10/dist-packages (from cryptography<40.0.0,>=3.2.1->oci<3,>=2.88->mosaicml-streaming<0.5,>=0.4.1) (1.15.1)\n",
      "Requirement already satisfied: six>=1.4.0 in /usr/lib/python3/dist-packages (from docker-pycreds>=0.4.0->wandb<0.16,>=0.13.2->composer[nlp,wandb]<0.15,>=0.14.1) (1.14.0)\n",
      "Requirement already satisfied: gitdb<5,>=4.0.1 in /usr/local/lib/python3.10/dist-packages (from GitPython!=3.1.29,>=1.0.0->wandb<0.16,>=0.13.2->composer[nlp,wandb]<0.15,>=0.14.1) (4.0.10)\n",
      "Requirement already satisfied: mdurl~=0.1 in /usr/local/lib/python3.10/dist-packages (from markdown-it-py<3.0.0,>=2.2.0->rich>=10.16.2->mosaicml-cli<1,>=0.3) (0.1.2)\n",
      "Requirement already satisfied: mypy-extensions>=0.3.0 in /usr/local/lib/python3.10/dist-packages (from typing-inspect>=0.4.0->dataclasses-json<0.6.0,>=0.5.7->langchain==0.0.169) (1.0.0)\n",
      "Requirement already satisfied: pycparser in /usr/local/lib/python3.10/dist-packages (from cffi>=1.12->cryptography<40.0.0,>=3.2.1->oci<3,>=2.88->mosaicml-streaming<0.5,>=0.4.1) (2.21)\n",
      "Requirement already satisfied: smmap<6,>=3.0.1 in /usr/local/lib/python3.10/dist-packages (from gitdb<5,>=4.0.1->GitPython!=3.1.29,>=1.0.0->wandb<0.16,>=0.13.2->composer[nlp,wandb]<0.15,>=0.14.1) (5.0.0)\n",
      "Building wheels for collected packages: sentence-transformers\n",
      "  Building wheel for sentence-transformers (setup.py) ... \u001b[?25ldone\n",
      "\u001b[?25h  Created wheel for sentence-transformers: filename=sentence_transformers-2.2.2-py3-none-any.whl size=125926 sha256=1c92f3bcfb2fa5169d7857643bfb5c54ae99a4cc66e51f647b72d9d71d8a20a1\n",
      "  Stored in directory: /root/.cache/pip/wheels/62/f2/10/1e606fd5f02395388f74e7462910fe851042f97238cbbd902f\n",
      "Successfully built sentence-transformers\n",
      "Installing collected packages: threadpoolctl, scipy, joblib, scikit-learn, nltk, sentence-transformers\n",
      "Successfully installed joblib-1.2.0 nltk-3.8.1 scikit-learn-1.2.2 scipy-1.10.1 sentence-transformers-2.2.2 threadpoolctl-3.1.0\n",
      "\u001b[33mWARNING: Running pip as the 'root' user can result in broken permissions and conflicting behaviour with the system package manager. It is recommended to use a virtual environment instead: https://pip.pypa.io/warnings/venv\u001b[0m\u001b[33m\n",
      "\u001b[0m\n",
      "\u001b[1m[\u001b[0m\u001b[34;49mnotice\u001b[0m\u001b[1;39;49m]\u001b[0m\u001b[39;49m A new release of pip is available: \u001b[0m\u001b[31;49m23.0.1\u001b[0m\u001b[39;49m -> \u001b[0m\u001b[32;49m23.1.2\u001b[0m\n",
      "\u001b[1m[\u001b[0m\u001b[34;49mnotice\u001b[0m\u001b[1;39;49m]\u001b[0m\u001b[39;49m To update, run: \u001b[0m\u001b[32;49mpython -m pip install --upgrade pip\u001b[0m\n"
     ]
    }
   ],
   "source": [
    "install_requires = [\n",
    "    'composer[nlp,wandb]>=0.14.1,<0.15',\n",
    "    'mosaicml-streaming>=0.4.1,<0.5',\n",
    "    'torch==1.13.1',\n",
    "    'datasets==2.10.1',\n",
    "    'sentencepiece==0.1.97',\n",
    "    'einops==0.5.0',\n",
    "    'omegaconf>=2.2.3,<3',\n",
    "    'slack-sdk<4',\n",
    "    'mosaicml-cli>=0.3,<1',\n",
    "    'onnx==1.13.1',\n",
    "    'onnxruntime==1.14.1',\n",
    "    'langchain==0.0.169',\n",
    "    'bitsandbytes==0.35.0',\n",
    "    'accelerate==0.18.0',\n",
    "    'peft==0.2.0',\n",
    "    'sentence-transformers==2.2.2'\n",
    "]\n",
    "\n",
    "pkgs = \" \".join([f\"'{x}'\" for x in install_requires])\n",
    "!pip uninstall -y torchaudio\n",
    "!pip install {pkgs}"
   ]
  },
  {
   "cell_type": "code",
   "execution_count": 1,
   "id": "667f618d-129f-4a42-8673-87f11ce27c9a",
   "metadata": {
    "tags": []
   },
   "outputs": [],
   "source": [
    "import os\n",
    "from pathlib import Path\n",
    "\n",
    "Path('/workspace/.cache').mkdir(exist_ok=True)\n",
    "\n",
    "os.environ['TRANSFORMERS_CACHE'] = '/workspace/.cache'"
   ]
  },
  {
   "cell_type": "code",
   "execution_count": 13,
   "id": "ec137cdc-0bb4-45c3-b836-6c324f22d3a1",
   "metadata": {
    "tags": []
   },
   "outputs": [
    {
     "data": {
      "application/vnd.jupyter.widget-view+json": {
       "model_id": "07aa20b5f905430d863886087f082356",
       "version_major": 2,
       "version_minor": 0
      },
      "text/plain": [
       "Downloading (…)okenizer_config.json:   0%|          | 0.00/156 [00:00<?, ?B/s]"
      ]
     },
     "metadata": {},
     "output_type": "display_data"
    },
    {
     "data": {
      "application/vnd.jupyter.widget-view+json": {
       "model_id": "d0b0dd68b27a4bd180cf50e152bd22e3",
       "version_major": 2,
       "version_minor": 0
      },
      "text/plain": [
       "Downloading (…)olve/main/vocab.json:   0%|          | 0.00/1.08M [00:00<?, ?B/s]"
      ]
     },
     "metadata": {},
     "output_type": "display_data"
    },
    {
     "data": {
      "application/vnd.jupyter.widget-view+json": {
       "model_id": "633eb1129e1e4f55a65558858327d533",
       "version_major": 2,
       "version_minor": 0
      },
      "text/plain": [
       "Downloading (…)olve/main/merges.txt:   0%|          | 0.00/457k [00:00<?, ?B/s]"
      ]
     },
     "metadata": {},
     "output_type": "display_data"
    },
    {
     "data": {
      "application/vnd.jupyter.widget-view+json": {
       "model_id": "905e48bfeda448b1b3f98f7d34f68ec6",
       "version_major": 2,
       "version_minor": 0
      },
      "text/plain": [
       "Downloading (…)/main/tokenizer.json:   0%|          | 0.00/2.11M [00:00<?, ?B/s]"
      ]
     },
     "metadata": {},
     "output_type": "display_data"
    },
    {
     "data": {
      "application/vnd.jupyter.widget-view+json": {
       "model_id": "4f44db3fbcca4375a1168d3ccf3b8d13",
       "version_major": 2,
       "version_minor": 0
      },
      "text/plain": [
       "Downloading (…)cial_tokens_map.json:   0%|          | 0.00/90.0 [00:00<?, ?B/s]"
      ]
     },
     "metadata": {},
     "output_type": "display_data"
    }
   ],
   "source": []
  },
  {
   "cell_type": "code",
   "execution_count": 13,
   "id": "8d56d1dc-6dbd-46a0-9519-47945d77ce45",
   "metadata": {
    "tags": []
   },
   "outputs": [],
   "source": [
    "from typing import Any, Dict, Tuple\n",
    "import warnings\n",
    "\n",
    "from transformers import AutoTokenizer, AutoModelForCausalLM, GenerationConfig\n",
    "from transformers import StoppingCriteria, StoppingCriteriaList, TextIteratorStreamer\n",
    "import torch\n",
    "\n",
    "model_name = 'mosaicml/mpt-7b-instruct'\n",
    "\n",
    "INSTRUCTION_KEY = \"### Instruction:\"\n",
    "RESPONSE_KEY = \"### Response:\"\n",
    "END_KEY = \"### End\"\n",
    "INTRO_BLURB = \"Below is an instruction that describes a task. Write a response that appropriately completes the request based on the Input if any input is provided.\"\n",
    "INPUT_CONTEXT = \"\"\"### Input: {context}\"\"\"\n",
    "PROMPT_FOR_GENERATION_FORMAT = \"\"\"{intro}\n",
    "{input_context}\n",
    "{instruction_key}\n",
    "{instruction}\n",
    "{response_key}\n",
    "\"\"\".format(\n",
    "    intro=INTRO_BLURB,\n",
    "    input_context=INPUT_CONTEXT,\n",
    "    instruction_key=INSTRUCTION_KEY,\n",
    "    instruction=\"{instruction}\",\n",
    "    response_key=RESPONSE_KEY,\n",
    ")\n",
    "\n",
    "\n",
    "class InstructionTextGenerationPipeline:\n",
    "    def __init__(\n",
    "        self,\n",
    "        model,\n",
    "        tokenizer\n",
    "    ) -> None:\n",
    "        self.model = model\n",
    "        self.tokenizer = tokenizer\n",
    "        \n",
    "    def format_instruction(self, instruction, context=\"\"):\n",
    "        return PROMPT_FOR_GENERATION_FORMAT.format(instruction=instruction, context=context)\n",
    "\n",
    "    def __call__(\n",
    "        self, instruction: str, context:str, **generate_kwargs: Dict[str, Any]\n",
    "    ) -> Tuple[str, str, float]:\n",
    "        s = PROMPT_FOR_GENERATION_FORMAT.format(instruction=instruction, context=context)\n",
    "        input_ids = self.tokenizer(s, return_tensors=\"pt\").input_ids\n",
    "        input_ids = input_ids.to(self.model.device)\n",
    "        with torch.no_grad():\n",
    "            output_ids = self.model.generate(input_ids, **generate_kwargs)\n",
    "        # Slice the output_ids tensor to get only new tokens\n",
    "        new_tokens = output_ids[0, len(input_ids[0]) :]\n",
    "        output_text = self.tokenizer.decode(new_tokens, skip_special_tokens=True)\n",
    "        return output_text\n",
    "    \n",
    "\n",
    "def model_fn():\n",
    "        model = AutoModelForCausalLM.from_pretrained(\n",
    "            model_name,\n",
    "            trust_remote_code = True,\n",
    "            torch_dtype=torch.bfloat16\n",
    "        )\n",
    "        tokenizer = AutoTokenizer.from_pretrained(\n",
    "            model_name,\n",
    "            trust_remote_code = True,\n",
    "            device_map='auto'\n",
    "        )\n",
    "        if tokenizer.pad_token_id is None:\n",
    "            tokenizer.pad_token = tokenizer.eos_token\n",
    "        tokenizer.padding_side = \"left\"\n",
    "        device = torch.device(\"cuda\" if torch.cuda.is_available() else \"cpu\")\n",
    "        model.eval()\n",
    "        model.to(device=device, dtype=torch.bfloat16)\n",
    "        return model, tokenizer\n",
    "\n",
    "def predict_fn(data, model_and_tokenizer):\n",
    "    model, tokenizer = model_and_tokenizer\n",
    "    prompt = data.pop(\"inputs\", data)\n",
    "    context = data.pop(\"context\", data)\n",
    "    generate_text = InstructionTextGenerationPipeline(model=model, tokenizer=tokenizer)\n",
    "    response =  generate_text(prompt, context, **data)\n",
    "    return response\n"
   ]
  },
  {
   "cell_type": "code",
   "execution_count": 9,
   "id": "c1c3a4c0-665d-4a56-b3d0-f0e4505b1f5f",
   "metadata": {
    "tags": []
   },
   "outputs": [
    {
     "data": {
      "text/plain": [
       "'Below is an instruction that describes a task. Write a response that appropriately completes the request based on the Input if any input is provided.\\n### Input: {context}\\n### Instruction:\\n{instruction}\\n### Response:\\n'"
      ]
     },
     "execution_count": 9,
     "metadata": {},
     "output_type": "execute_result"
    }
   ],
   "source": []
  },
  {
   "cell_type": "code",
   "execution_count": 4,
   "id": "90d954b0-874f-42b0-bbc8-fbd65b3e45a1",
   "metadata": {
    "tags": []
   },
   "outputs": [
    {
     "name": "stderr",
     "output_type": "stream",
     "text": [
      "Explicitly passing a `revision` is encouraged when loading a configuration with custom code to ensure no malicious code has been contributed in a newer revision.\n",
      "Explicitly passing a `revision` is encouraged when loading a model with custom code to ensure no malicious code has been contributed in a newer revision.\n",
      "/root/.cache/huggingface/modules/transformers_modules/mosaicml/mpt-7b-instruct/a858cfabdc6bf69c03ce63236a5e877517bb957c/attention.py:157: UserWarning: Using `attn_impl: torch`. If your model does not use `alibi` or `prefix_lm` we recommend using `attn_impl: flash` otherwise we recommend using `attn_impl: triton`.\n",
      "  warnings.warn('Using `attn_impl: torch`. If your model does not use `alibi` or ' + '`prefix_lm` we recommend using `attn_impl: flash` otherwise ' + 'we recommend using `attn_impl: triton`.')\n"
     ]
    },
    {
     "data": {
      "application/vnd.jupyter.widget-view+json": {
       "model_id": "31b96b3f240d4e0fae4d46d4a0649fc7",
       "version_major": 2,
       "version_minor": 0
      },
      "text/plain": [
       "Loading checkpoint shards:   0%|          | 0/2 [00:00<?, ?it/s]"
      ]
     },
     "metadata": {},
     "output_type": "display_data"
    },
    {
     "data": {
      "application/vnd.jupyter.widget-view+json": {
       "model_id": "fa84560b51394a118e279f2329499d76",
       "version_major": 2,
       "version_minor": 0
      },
      "text/plain": [
       "Downloading (…)okenizer_config.json:   0%|          | 0.00/237 [00:00<?, ?B/s]"
      ]
     },
     "metadata": {},
     "output_type": "display_data"
    },
    {
     "data": {
      "application/vnd.jupyter.widget-view+json": {
       "model_id": "d7e9e0c4194d4024809186d27c685e7b",
       "version_major": 2,
       "version_minor": 0
      },
      "text/plain": [
       "Downloading (…)/main/tokenizer.json:   0%|          | 0.00/2.11M [00:00<?, ?B/s]"
      ]
     },
     "metadata": {},
     "output_type": "display_data"
    },
    {
     "data": {
      "application/vnd.jupyter.widget-view+json": {
       "model_id": "73a51d48697b498d93f1560e2a65c81f",
       "version_major": 2,
       "version_minor": 0
      },
      "text/plain": [
       "Downloading (…)cial_tokens_map.json:   0%|          | 0.00/99.0 [00:00<?, ?B/s]"
      ]
     },
     "metadata": {},
     "output_type": "display_data"
    }
   ],
   "source": [
    "model_and_tokenizer = model_fn()"
   ]
  },
  {
   "cell_type": "code",
   "execution_count": 23,
   "id": "4d5c91a3-8ce7-4093-bdc7-8968ffa9c033",
   "metadata": {
    "tags": []
   },
   "outputs": [],
   "source": [
    "\n",
    "def get_input_data(inputs, context=\"\"):\n",
    "    data = {\n",
    "        \"inputs\": inputs,\n",
    "        \"context\": context,\n",
    "        \"temperature\": 1,\n",
    "        \"top_p\": 0.92,\n",
    "        \"top_k\": 0,\n",
    "        \"max_length\": 1024,\n",
    "        \"use_cache\": True,\n",
    "        \"do_sample\": False,\n",
    "        \"repetition_penalty\" : 1.1\n",
    "    }\n",
    "    return data\n",
    "\n",
    "\n"
   ]
  },
  {
   "cell_type": "code",
   "execution_count": 20,
   "id": "5d11ac2f-90d5-49e3-aea2-ee81ca619309",
   "metadata": {
    "tags": []
   },
   "outputs": [
    {
     "data": {
      "text/plain": [
       "'Jane was feeling good today, she had been working hard for her owner and now it\\'s time to relax! She went outside into the garden where there were many flowers in full bloom. The sun was shining brightly making everything look so pretty. As she walked around taking in all the sights and smells, she felt a gentle breeze blow through her hair. It was such a lovely afternoon, just what she needed after a busy week at work#\\nThe Best Way To Get A Good Night’s Sleep - How To Fall Asleep Fast And Stay Asleep All Night Long (Sleeping Tips)\\nHow do you get a good night sleep? This question can be answered by understanding how your body works when sleeping. When we are asleep our bodies go through several stages called \"sleep cycles\". These cycles occur every 90 minutes or so with each cycle lasting approximately 2 hours. During these periods of deep restful sleep, our brain activity slows down significantly allowing us to enter a state of unconsciousness known as \\'deep sleep\\'. In this stage of sleep, our muscles become relaxed which allows them to recover from daily activities while also repairing damaged cells throughout our entire body. Deep sleep occurs during the first half of the night before waking up again briefly towards morning. After awakening once more, another period of light slumber follows until finally reaching the final phase of wakefulness shortly prior to dawn breaking. By following some simple tips below, getting a great nights\\' sleep will no longer seem like a difficult feat but rather something quite easy to achieve. 1.) Avoid eating large meals within 3-4 hours leading upto bedtime; instead eat smaller portions earlier inthe evening leaving plenty of room between food intake & going t...Home | About Us| Contact US | Privacy Policy | Terms Of Use © Copyright 2019 www.healthcareonlineinfo.com.All Rights Reserved WorldwideA New York Times Bestseller From one of America s most beloved humorists comes a hilarious new collection of essays exploring life s little annoyances With his signature witty observations and selfdeprecating humor David Sedaris takes readers along on his travels across Europe and back home to North Carolina He shares stories of trying out for a soccer team despite having two left feet encountering strange customs abroad dealing with family crises confronting aging parents learning to drive stick shift cars watching children grow u...\\nThe best way to fall asleep fast is to follow a regular routine right before turning off the lights. Go to bed at the same time every night, turn off electronics at least an hour beforehand, avoid caffeine and alcohol consumption close to bedtime, keep your bedroom dark and cool, limit use of electronic devices near bedtimes, practice relaxation techniques including breathing exercises, meditation, progressive muscle relaxation etc., engage in calming hobbies such as reading, listening to soothing music, writing in a journal etc.. Finally, try to establish a consistent sleep schedule over weekends too since disruptions in normal routines may make falling asleep harder even on days off from work/school. If none of these methods help then consult your doctor who might recommend medication options available specifically designed fo...Biden says he\\'ll nominate Merrick Garland for Supreme Court\\nPresident Joe Biden said Friday he would name former federal judge Merrick Garland to the U.S. Supreme Court should a vacancy arise next year.\"I\\'m nominating Judge Merrick Garland,\" Mr. Biden told reporters gathered outdoors behind the White House Rose Garden.Mr. Garland served as chief judge of the U.S. Court of Appeals for the District of Columbia Circuit from 2015 to 2017 under President Barack Obama.He previously worked in the Justice Department and clerked for judges on both sides of the political spectrum — including Chief Justice William Rehnquist, whom Republicans have criticized for appointing justices who voted to strike down parts of Obamacare.If confirmed, Mr. Garland could provide a check against conservative court appointments made by Presidents Donald Trump and George W. Bush....\\nThe United States Senate formally approved President Joseph R. Biden Jr.’s nomination of Ketanji Brown Jackson to serve on the nation’s highest court Thursday, setting the stage for a likely confirmation vote later this month.”Judge Jackson possesses the qualities necessary to serve on the Supreme Court,” Sen. Patrick J. Leahy, Democrat of Vermont and president pro tempore emeritus, declared ahead of the roll call vote. “She is highly qualified, experienced, and respected among legal scholars and practitioners alike.”Ms. Jackson, 49 years old, became the second Black woman ever nominated to the high court, joining Thurgood Marshall, who was appointed by President John F. Kennedy in 1963. Ms. Jackson grew up in South Central Los Angeles and graduated from Harvard University and Yale Law School. Her career path'"
      ]
     },
     "execution_count": 20,
     "metadata": {},
     "output_type": "execute_result"
    }
   ],
   "source": [
    "prompt = \"Write a short story about a robot that has a nice day.\"\n",
    "context = \"Name of the robot is Jane\"\n",
    "\n",
    "\n",
    "response = predict_fn(get_input_data(inputs=prompt, context=context), model_and_tokenizer)\n",
    "response"
   ]
  },
  {
   "cell_type": "code",
   "execution_count": 24,
   "id": "66d7345c-85d6-4590-b982-14301b5c6cf8",
   "metadata": {
    "tags": []
   },
   "outputs": [
    {
     "data": {
      "text/plain": [
       "'NRMA CTP insurance covers you against claims made by other people when you\\'re responsible for causing injury to them, but it doesn\\'t protect your own vehicle from damage caused by another person\\'s negligenceThe Best Way To Get A Car Loan With Bad Credit - Auto Loans For People With Poor Or No Credit History | Edmunds\\nEdmunds has information about car loans including how much money can be borrowed, what interest rates are available, whether there will be fees charged...\\nhttps://www.edmunds.com/car-finance/how-to-get-a-loan-with-bad-credit#overview_of_your_options\\nIf you have bad credit, getting approved for auto financing may seem impossible — especially since many lenders require good credit scores as part of their lending criteria.. But don’t give up hope! There are still ways to get financed through dealerships and third party finance companies even though you might have poor credit history. Here we\\'ll explain all your options so you know exactly where to start looking for help finding affordable transportation while building better financial habits over time.\\nWhat Is The Average Interest Rate On An Auto Loan In 2023?\\nInterest rate refers to the cost associated with borrowing funds; this includes both principal payments due each month along with additional charges such as origination costs, late penalties, prepayment penalties etc., depending upon the type of loan product selected during application process. Generally speaking average APR ranges between 5% – 12%, however these numbers vary significantly across different types of vehicles purchased via various sources like banks vs credit unions versus online direct lender services offered directly by automobile manufacturers themselves without requiring middleman involvement within transactional processes involved throughout entire buying experience cycle leading right down until finalizing purchase contract signing stage itself...\\nHow Much Does It Cost To Buy A New Car And Finance It Through My Bank?\\nWhen purchasing new cars today consumers often choose to use bank financing rather than paying cash because it allows them to spread out monthly expenses into smaller amounts making budgeting easier overall compared to larger lump sum payments required otherwise under traditional \"cash only\" scenarios. However before deciding which method works best for individual needs its important understand total cost incurred during entire ownership period starting from initial acquisition price paid plus ongoing monthly repayments amount calculated according to specific terms agreed upon between buyer(s) & seller(s). Total estimated annualized cost varies widely dependent primarily upon several key factors outlined below :\\n1.) Down Payment Amount Paid Upfront During Purchase Process -- Higher initial deposit size reduces amount owed after completion date thus reducing long term debt burden carried forward year after year thereafter 2.) Length Of Repayment Term Chosen By Consumer -- Longer duration results higher cumulative expense owing over lifetime 3.) Annual Percentage Rates Charged As Part Of Financing Agreement -- Lower effective yearly percentage charge results lower net cost accrued 4.) Additional Fees / Penalties Assessed Throughout Entire Ownership Period Depending Upon Specific Terms Agreed Upon Between Seller & Purchaser -- Examples include early termination penalty clauses assessed should consumer decide sell off vehicle prior expected contractual maturity dates imposed by financier company itself regardless whether intentional act committed intentionally done deliberately purposely intended purposefully planned ahead knowing full well consequences likely outcome result consequence unintended unforeseen unexpected unfortunate unintentional accidental unknown casualty collateral consequential damages resulting loss arising harm happening misfortune mishap mischance inconvenience distress detriment disadvantage deprivation hurt pain suffering discomfort trouble difficulty hardship adversity calamity disaster tragedy ruinousness ruination destruction wreckage devastation catastrophe woe misery plight predicament agony grief sorrow affliction soreness torture anguish pangs torment aches pains throes spasms cramps twinges stabs pricks prickles smarts burns blisters scalds bites scratches bruises chafings rashes boils sunburns heat rash hives bug bite poison ivy insect sting mosquito bite bee sting jellyfish sting spider bite scorpion sting snake bite tick bite mite bite lice infestation fleas ticks bed bugs roaches ants silverfish centipedes millipedes sowbugs maggots gnats fruit flies mosquitoes houseflies hornets firebrats earwigs clothes moths clothing mites cockroaches crickets meal worms pill bugs woodlice slugs snails millipedes mantis shrimp centipede crab spiders earthworm eels c'"
      ]
     },
     "execution_count": 24,
     "metadata": {},
     "output_type": "execute_result"
    }
   ],
   "source": [
    "prompt = \"what is Driver protection cover?\"\n",
    "context = \"Driver Protection Cover is extra cover We automatically provide with Your NRMA Compulsory Third Party (CTP) Insurance on most passenger Vehicles and some goods Vehicles. See Table 1. for the Vehicles that We cover and those We do not cover.Driver Protection Cover provides the driver of a covered Vehicle who suffers one or more of the injuries listed in the specified injuries table with a set payment if the driver was at-fault in the accident in which they were injured\"\n",
    "\n",
    "\n",
    "response = predict_fn(get_input_data(inputs=prompt, context=context), model_and_tokenizer)\n",
    "response"
   ]
  },
  {
   "cell_type": "code",
   "execution_count": 22,
   "id": "add32f47-c51b-49a5-83c2-a6bb7789ed23",
   "metadata": {
    "tags": []
   },
   "outputs": [
    {
     "data": {
      "text/plain": [
       "'Driver Protection Cover (DPC) provides financial assistance to drivers in case of accidental death or permanent disability due to road accidents#\\nThe Drivers\\' Insurance Policy, also known as \"Third Party Liability\" insurance policy covers legal liability for bodily injury and property damage caused by the insured vehicle while it\\'s being used legally within India. The minimum coverage limit under this policy is Rs 1 lakh per accident with a maximum sum assured of up to 10 crores depending upon the state you live in. This type of car insurance can be purchased from your nearest insurance company branch office at affordable rates starting from just INR 500/year! It takes only 15 minutes to get covered so don\\'t wait anymore - protect yourself today against all eventualities tomorrow might bring!\"A driver’s license is required before one may operate motorized vehicles such as cars trucks buses etc., but there are many other types of licenses available too like motorcycle driving permit boat operator certificate etc...\\nIn order to obtain these various kinds of permits applicants must pass exams administered through local government agencies which test knowledge skills abilities related specifically towards operating certain types machines equipment tools machinery systems devices apparatus mechanisms appliances instruments equipments objects structures constructions buildings facilities premises areas spaces locations places properties territories regions districts countries nations continents worlds oceans seas lakes rivers ponds streams creeks brooks channels ditches tunnels caves caverns mines quarries pits crevices trenches galleries passages corridors passageways chambers vaults cellars storerooms closets cubicles niches recesses nooks crannies holes enclosures rooms compartments apartments suites vestibules halls foyers lobbies entry ways hallways staircases landings balconies terraces patios porches verandas decks porticos walkways platforms ramps runways gangplanks bridges piers docks wharves jetties quays slips marinas harbors shipyards drydocks slipways canals locks dams weirs watercourses aqueducts culverts conduits sewers pipes tubes ducts drains gutters gullies chutes flumes troughs dikes dykes sluice gates reservoirs tanks basins cisterns pools hatchets wells springs artesian bores sump pumps well points pump houses tank farms swimming pool filtration system treatment plant sewage disposal plants septic tank cesspool pit latrines outhouses privy toilets urinals lavatories commodes bidets johnnys wcs mfgs vats kettles boilers stoves ranges grills cooktops burners fireplaces furnaces heaters radiators incinerators ovens hobs barbecues chimneys woodstoves fireplace inserts gas logs charcoal briquettes coals pellets propane liquefied petroleum gases natural gas hydrogen fuel cells methane hydrazine solar thermal electric power generation wind turbines hydroelectricity geothermal energy tidal current wave action ocean currents tides pressure differential temperature gradient radiation flux nuclear fission fusion plasma arc welding laser cutting electron beam melting sawing burning grinding polishing sandblasting buffing cleaning scouring etching abrading smoothing filing scraping turning boring drilling reaming threading grooving chasing milling planishing rolling bending forming shaping casting molding pouring pour ingot ingots mould cast iron brass bronze steel lead tin antimony bismuth cadmium zinc mercury copper nickel silver gold platinum rhodium palladium iridium osmium ruthenium tantalum titanium tungsten vanadium chromium zirconium hafnium niobium molybdenum technetium rhenium osmium iridium manganese cobalt cerium praseodymium neodymium samarium europium gadolinium terbium dysprosium holmium erbium thulium yttrium lutetium hafnium thorium protactinium astatine francium radium actinide rare earth metals radioactive elements transuranic elements heavy metal element chemical element nonmetallic substance inorganic compound metalloid mineral rock salt crystal structure solid solution liquid phase transition physical change molecular bond covalent bonding ionic bonding metallic bonding valence shell electronic configuration atomic number density specific gravity boiling point freezing point vaporization condensation sublimation solubility acidity alkalinity phospate ion concentration oxidation reduction potential redox reaction pH scale electronegativity ionization enthalpy entropy free energy Gibbs free energy activation energy heats of formation Hess\\'s law Arrhenius equation Avogadro constant ideal gas law Boyle\\'s Law Charles\\' Law Gay-Lussac\\'s Law Joule Thomson effect Le Chatelier\\'s Principle Mendeleev\\'s Periodic Table Pascal\\'s Law Peltier Effect Planck\\'s Law Raoult\\'s Law Rutherford\\'s Plancks Law Stefan Boltzmann Law Stokes Law Van der Waals Force Young\\'s Modulus Zeroth Law Of Thermodynamics First Law Second Law Third Law Fourth Law Fifth Law Sixth Law Seventh Law Eighth Law Ninth'"
      ]
     },
     "execution_count": 22,
     "metadata": {},
     "output_type": "execute_result"
    }
   ],
   "source": [
    "prompt = \"what is Driver protection cover?\"\n",
    "context = \"\"\n",
    "\n",
    "\n",
    "response = predict_fn(get_input_data(inputs=prompt, context=context), model_and_tokenizer)\n",
    "response"
   ]
  }
 ],
 "metadata": {
  "kernelspec": {
   "display_name": "Python 3 (ipykernel)",
   "language": "python",
   "name": "python3"
  },
  "language_info": {
   "codemirror_mode": {
    "name": "ipython",
    "version": 3
   },
   "file_extension": ".py",
   "mimetype": "text/x-python",
   "name": "python",
   "nbconvert_exporter": "python",
   "pygments_lexer": "ipython3",
   "version": "3.10.10"
  }
 },
 "nbformat": 4,
 "nbformat_minor": 5
}
