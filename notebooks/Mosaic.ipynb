{
 "cells": [
  {
   "cell_type": "code",
   "execution_count": 1,
   "id": "c14d6876-a115-463c-bf0b-a0d06ff6b36a",
   "metadata": {
    "tags": []
   },
   "outputs": [
    {
     "name": "stdout",
     "output_type": "stream",
     "text": [
      "\u001b[33mWARNING: Skipping torchaudio as it is not installed.\u001b[0m\u001b[33m\n",
      "\u001b[0m\u001b[33mWARNING: Running pip as the 'root' user can result in broken permissions and conflicting behaviour with the system package manager. It is recommended to use a virtual environment instead: https://pip.pypa.io/warnings/venv\u001b[0m\u001b[33m\n",
      "\u001b[0mRequirement already satisfied: composer[nlp,wandb]<0.15,>=0.14.1 in /usr/local/lib/python3.10/dist-packages (0.14.1)\n",
      "Requirement already satisfied: mosaicml-streaming<0.5,>=0.4.1 in /usr/local/lib/python3.10/dist-packages (0.4.1)\n",
      "Requirement already satisfied: torch==1.13.1 in /usr/local/lib/python3.10/dist-packages (1.13.1)\n",
      "Requirement already satisfied: datasets==2.10.1 in /usr/local/lib/python3.10/dist-packages (2.10.1)\n",
      "Requirement already satisfied: sentencepiece==0.1.97 in /usr/local/lib/python3.10/dist-packages (0.1.97)\n",
      "Requirement already satisfied: einops==0.5.0 in /usr/local/lib/python3.10/dist-packages (0.5.0)\n",
      "Requirement already satisfied: omegaconf<3,>=2.2.3 in /usr/local/lib/python3.10/dist-packages (2.3.0)\n",
      "Requirement already satisfied: slack-sdk<4 in /usr/local/lib/python3.10/dist-packages (3.21.3)\n",
      "Requirement already satisfied: mosaicml-cli<1,>=0.3 in /usr/local/lib/python3.10/dist-packages (0.4.4)\n",
      "Requirement already satisfied: onnx==1.13.1 in /usr/local/lib/python3.10/dist-packages (1.13.1)\n",
      "Requirement already satisfied: onnxruntime==1.14.1 in /usr/local/lib/python3.10/dist-packages (1.14.1)\n",
      "Requirement already satisfied: langchain==0.0.169 in /usr/local/lib/python3.10/dist-packages (0.0.169)\n",
      "Requirement already satisfied: bitsandbytes==0.35.0 in /usr/local/lib/python3.10/dist-packages (0.35.0)\n",
      "Requirement already satisfied: accelerate==0.18.0 in /usr/local/lib/python3.10/dist-packages (0.18.0)\n",
      "Requirement already satisfied: peft==0.2.0 in /usr/local/lib/python3.10/dist-packages (0.2.0)\n",
      "Requirement already satisfied: sentence-transformers==2.2.2 in /usr/local/lib/python3.10/dist-packages (2.2.2)\n",
      "Requirement already satisfied: nvidia-cuda-runtime-cu11==11.7.99 in /usr/local/lib/python3.10/dist-packages (from torch==1.13.1) (11.7.99)\n",
      "Requirement already satisfied: nvidia-cudnn-cu11==8.5.0.96 in /usr/local/lib/python3.10/dist-packages (from torch==1.13.1) (8.5.0.96)\n",
      "Requirement already satisfied: typing-extensions in /usr/local/lib/python3.10/dist-packages (from torch==1.13.1) (4.5.0)\n",
      "Requirement already satisfied: nvidia-cublas-cu11==11.10.3.66 in /usr/local/lib/python3.10/dist-packages (from torch==1.13.1) (11.10.3.66)\n",
      "Requirement already satisfied: nvidia-cuda-nvrtc-cu11==11.7.99 in /usr/local/lib/python3.10/dist-packages (from torch==1.13.1) (11.7.99)\n",
      "Requirement already satisfied: dill<0.3.7,>=0.3.0 in /usr/local/lib/python3.10/dist-packages (from datasets==2.10.1) (0.3.6)\n",
      "Requirement already satisfied: tqdm>=4.62.1 in /usr/local/lib/python3.10/dist-packages (from datasets==2.10.1) (4.65.0)\n",
      "Requirement already satisfied: requests>=2.19.0 in /usr/local/lib/python3.10/dist-packages (from datasets==2.10.1) (2.28.2)\n",
      "Requirement already satisfied: xxhash in /usr/local/lib/python3.10/dist-packages (from datasets==2.10.1) (3.2.0)\n",
      "Requirement already satisfied: packaging in /usr/local/lib/python3.10/dist-packages (from datasets==2.10.1) (22.0)\n",
      "Requirement already satisfied: pyyaml>=5.1 in /usr/local/lib/python3.10/dist-packages (from datasets==2.10.1) (6.0)\n",
      "Requirement already satisfied: huggingface-hub<1.0.0,>=0.2.0 in /usr/local/lib/python3.10/dist-packages (from datasets==2.10.1) (0.14.1)\n",
      "Requirement already satisfied: pandas in /usr/local/lib/python3.10/dist-packages (from datasets==2.10.1) (2.0.1)\n",
      "Requirement already satisfied: aiohttp in /usr/local/lib/python3.10/dist-packages (from datasets==2.10.1) (3.8.4)\n",
      "Requirement already satisfied: fsspec[http]>=2021.11.1 in /usr/local/lib/python3.10/dist-packages (from datasets==2.10.1) (2023.5.0)\n",
      "Requirement already satisfied: pyarrow>=6.0.0 in /usr/local/lib/python3.10/dist-packages (from datasets==2.10.1) (12.0.0)\n",
      "Requirement already satisfied: responses<0.19 in /usr/local/lib/python3.10/dist-packages (from datasets==2.10.1) (0.18.0)\n",
      "Requirement already satisfied: numpy>=1.17 in /usr/local/lib/python3.10/dist-packages (from datasets==2.10.1) (1.24.2)\n",
      "Requirement already satisfied: multiprocess in /usr/local/lib/python3.10/dist-packages (from datasets==2.10.1) (0.70.14)\n",
      "Requirement already satisfied: protobuf<4,>=3.20.2 in /usr/local/lib/python3.10/dist-packages (from onnx==1.13.1) (3.20.3)\n",
      "Requirement already satisfied: flatbuffers in /usr/local/lib/python3.10/dist-packages (from onnxruntime==1.14.1) (23.5.9)\n",
      "Requirement already satisfied: coloredlogs in /usr/local/lib/python3.10/dist-packages (from onnxruntime==1.14.1) (15.0.1)\n",
      "Requirement already satisfied: sympy in /usr/local/lib/python3.10/dist-packages (from onnxruntime==1.14.1) (1.11.1)\n",
      "Requirement already satisfied: pydantic<2,>=1 in /usr/local/lib/python3.10/dist-packages (from langchain==0.0.169) (1.10.8)\n",
      "Requirement already satisfied: dataclasses-json<0.6.0,>=0.5.7 in /usr/local/lib/python3.10/dist-packages (from langchain==0.0.169) (0.5.7)\n",
      "Requirement already satisfied: async-timeout<5.0.0,>=4.0.0 in /usr/local/lib/python3.10/dist-packages (from langchain==0.0.169) (4.0.2)\n",
      "Requirement already satisfied: numexpr<3.0.0,>=2.8.4 in /usr/local/lib/python3.10/dist-packages (from langchain==0.0.169) (2.8.4)\n",
      "Requirement already satisfied: SQLAlchemy<3,>=1.4 in /usr/local/lib/python3.10/dist-packages (from langchain==0.0.169) (2.0.15)\n",
      "Requirement already satisfied: openapi-schema-pydantic<2.0,>=1.2 in /usr/local/lib/python3.10/dist-packages (from langchain==0.0.169) (1.2.4)\n",
      "Requirement already satisfied: tenacity<9.0.0,>=8.1.0 in /usr/local/lib/python3.10/dist-packages (from langchain==0.0.169) (8.2.2)\n",
      "Requirement already satisfied: psutil in /usr/local/lib/python3.10/dist-packages (from accelerate==0.18.0) (5.9.4)\n",
      "Requirement already satisfied: transformers in /usr/local/lib/python3.10/dist-packages (from peft==0.2.0) (4.28.1)\n",
      "Requirement already satisfied: torchvision in /usr/local/lib/python3.10/dist-packages (from sentence-transformers==2.2.2) (0.14.1)\n",
      "Requirement already satisfied: nltk in /usr/local/lib/python3.10/dist-packages (from sentence-transformers==2.2.2) (3.8.1)\n",
      "Requirement already satisfied: scikit-learn in /usr/local/lib/python3.10/dist-packages (from sentence-transformers==2.2.2) (1.2.2)\n",
      "Requirement already satisfied: scipy in /usr/local/lib/python3.10/dist-packages (from sentence-transformers==2.2.2) (1.10.1)\n",
      "Requirement already satisfied: wheel in /usr/local/lib/python3.10/dist-packages (from nvidia-cublas-cu11==11.10.3.66->torch==1.13.1) (0.40.0)\n",
      "Requirement already satisfied: setuptools in /usr/local/lib/python3.10/dist-packages (from nvidia-cublas-cu11==11.10.3.66->torch==1.13.1) (67.6.1)\n",
      "Requirement already satisfied: torchmetrics<0.11.4,>=0.10.0 in /usr/local/lib/python3.10/dist-packages (from composer[nlp,wandb]<0.15,>=0.14.1) (0.11.3)\n",
      "Requirement already satisfied: py-cpuinfo<10,>=8.0.0 in /usr/local/lib/python3.10/dist-packages (from composer[nlp,wandb]<0.15,>=0.14.1) (9.0.0)\n",
      "Requirement already satisfied: coolname<3,>=1.1.0 in /usr/local/lib/python3.10/dist-packages (from composer[nlp,wandb]<0.15,>=0.14.1) (2.2.0)\n",
      "Requirement already satisfied: tabulate==0.9.0 in /usr/local/lib/python3.10/dist-packages (from composer[nlp,wandb]<0.15,>=0.14.1) (0.9.0)\n",
      "Requirement already satisfied: importlib-metadata<7,>=5.0.0 in /usr/local/lib/python3.10/dist-packages (from composer[nlp,wandb]<0.15,>=0.14.1) (6.6.0)\n",
      "Requirement already satisfied: torch-optimizer<0.4,>=0.3.0 in /usr/local/lib/python3.10/dist-packages (from composer[nlp,wandb]<0.15,>=0.14.1) (0.3.0)\n",
      "Requirement already satisfied: wandb<0.16,>=0.13.2 in /usr/local/lib/python3.10/dist-packages (from composer[nlp,wandb]<0.15,>=0.14.1) (0.15.3)\n",
      "Requirement already satisfied: python-snappy<1,>=0.6.1 in /usr/local/lib/python3.10/dist-packages (from mosaicml-streaming<0.5,>=0.4.1) (0.6.1)\n",
      "Requirement already satisfied: boto3<2,>=1.21.45 in /usr/local/lib/python3.10/dist-packages (from mosaicml-streaming<0.5,>=0.4.1) (1.26.141)\n",
      "Requirement already satisfied: paramiko<4,>=2.11.0 in /usr/local/lib/python3.10/dist-packages (from mosaicml-streaming<0.5,>=0.4.1) (3.2.0)\n",
      "Requirement already satisfied: zstd<2,>=1.5.2.5 in /usr/local/lib/python3.10/dist-packages (from mosaicml-streaming<0.5,>=0.4.1) (1.5.5.1)\n",
      "Requirement already satisfied: oci<3,>=2.88 in /usr/local/lib/python3.10/dist-packages (from mosaicml-streaming<0.5,>=0.4.1) (2.103.0)\n",
      "Requirement already satisfied: matplotlib<4,>=3.5.2 in /usr/local/lib/python3.10/dist-packages (from mosaicml-streaming<0.5,>=0.4.1) (3.7.1)\n",
      "Requirement already satisfied: torchtext>=0.10 in /usr/local/lib/python3.10/dist-packages (from mosaicml-streaming<0.5,>=0.4.1) (0.14.1)\n",
      "Requirement already satisfied: Brotli>=1.0.9 in /usr/local/lib/python3.10/dist-packages (from mosaicml-streaming<0.5,>=0.4.1) (1.0.9)\n",
      "Requirement already satisfied: antlr4-python3-runtime==4.9.* in /usr/local/lib/python3.10/dist-packages (from omegaconf<3,>=2.2.3) (4.9.3)\n",
      "Requirement already satisfied: arrow>=1.2.2 in /usr/local/lib/python3.10/dist-packages (from mosaicml-cli<1,>=0.3) (1.2.3)\n",
      "Requirement already satisfied: gql[websockets]>=3.4.0 in /usr/local/lib/python3.10/dist-packages (from mosaicml-cli<1,>=0.3) (3.4.1)\n",
      "Requirement already satisfied: backoff>=2.2.1 in /usr/local/lib/python3.10/dist-packages (from mosaicml-cli<1,>=0.3) (2.2.1)\n",
      "Requirement already satisfied: argcomplete>=2.0.0 in /usr/local/lib/python3.10/dist-packages (from mosaicml-cli<1,>=0.3) (3.0.8)\n",
      "Requirement already satisfied: validators>=0.20.0 in /usr/local/lib/python3.10/dist-packages (from mosaicml-cli<1,>=0.3) (0.20.0)\n",
      "Requirement already satisfied: ruamel.yaml>=0.17.21 in /usr/local/lib/python3.10/dist-packages (from mosaicml-cli<1,>=0.3) (0.17.27)\n",
      "Requirement already satisfied: docker>=5.0.3 in /usr/local/lib/python3.10/dist-packages (from mosaicml-cli<1,>=0.3) (6.1.2)\n",
      "Requirement already satisfied: prompt-toolkit>=3.0.29 in /usr/local/lib/python3.10/dist-packages (from mosaicml-cli<1,>=0.3) (3.0.38)\n",
      "Requirement already satisfied: rich>=10.16.2 in /usr/local/lib/python3.10/dist-packages (from mosaicml-cli<1,>=0.3) (13.3.5)\n",
      "Requirement already satisfied: questionary>=1.10.0 in /usr/local/lib/python3.10/dist-packages (from mosaicml-cli<1,>=0.3) (1.10.0)\n",
      "Requirement already satisfied: aiosignal>=1.1.2 in /usr/local/lib/python3.10/dist-packages (from aiohttp->datasets==2.10.1) (1.3.1)\n",
      "Requirement already satisfied: frozenlist>=1.1.1 in /usr/local/lib/python3.10/dist-packages (from aiohttp->datasets==2.10.1) (1.3.3)\n",
      "Requirement already satisfied: yarl<2.0,>=1.0 in /usr/local/lib/python3.10/dist-packages (from aiohttp->datasets==2.10.1) (1.9.2)\n",
      "Requirement already satisfied: attrs>=17.3.0 in /usr/local/lib/python3.10/dist-packages (from aiohttp->datasets==2.10.1) (22.2.0)\n",
      "Requirement already satisfied: multidict<7.0,>=4.5 in /usr/local/lib/python3.10/dist-packages (from aiohttp->datasets==2.10.1) (6.0.4)\n",
      "Requirement already satisfied: charset-normalizer<4.0,>=2.0 in /usr/local/lib/python3.10/dist-packages (from aiohttp->datasets==2.10.1) (3.1.0)\n",
      "Requirement already satisfied: python-dateutil>=2.7.0 in /usr/local/lib/python3.10/dist-packages (from arrow>=1.2.2->mosaicml-cli<1,>=0.3) (2.8.2)\n",
      "Requirement already satisfied: s3transfer<0.7.0,>=0.6.0 in /usr/local/lib/python3.10/dist-packages (from boto3<2,>=1.21.45->mosaicml-streaming<0.5,>=0.4.1) (0.6.1)\n",
      "Requirement already satisfied: botocore<1.30.0,>=1.29.141 in /usr/local/lib/python3.10/dist-packages (from boto3<2,>=1.21.45->mosaicml-streaming<0.5,>=0.4.1) (1.29.141)\n",
      "Requirement already satisfied: jmespath<2.0.0,>=0.7.1 in /usr/local/lib/python3.10/dist-packages (from boto3<2,>=1.21.45->mosaicml-streaming<0.5,>=0.4.1) (1.0.1)\n",
      "Requirement already satisfied: marshmallow<4.0.0,>=3.3.0 in /usr/local/lib/python3.10/dist-packages (from dataclasses-json<0.6.0,>=0.5.7->langchain==0.0.169) (3.19.0)\n",
      "Requirement already satisfied: typing-inspect>=0.4.0 in /usr/local/lib/python3.10/dist-packages (from dataclasses-json<0.6.0,>=0.5.7->langchain==0.0.169) (0.9.0)\n",
      "Requirement already satisfied: marshmallow-enum<2.0.0,>=1.5.1 in /usr/local/lib/python3.10/dist-packages (from dataclasses-json<0.6.0,>=0.5.7->langchain==0.0.169) (1.5.1)\n",
      "Requirement already satisfied: websocket-client>=0.32.0 in /usr/local/lib/python3.10/dist-packages (from docker>=5.0.3->mosaicml-cli<1,>=0.3) (1.5.1)\n",
      "Requirement already satisfied: urllib3>=1.26.0 in /usr/local/lib/python3.10/dist-packages (from docker>=5.0.3->mosaicml-cli<1,>=0.3) (1.26.16)\n",
      "Requirement already satisfied: graphql-core<3.3,>=3.2 in /usr/local/lib/python3.10/dist-packages (from gql[websockets]>=3.4.0->mosaicml-cli<1,>=0.3) (3.2.3)\n",
      "Requirement already satisfied: websockets<11,>=10 in /usr/local/lib/python3.10/dist-packages (from gql[websockets]>=3.4.0->mosaicml-cli<1,>=0.3) (10.4)\n",
      "Requirement already satisfied: filelock in /usr/local/lib/python3.10/dist-packages (from huggingface-hub<1.0.0,>=0.2.0->datasets==2.10.1) (3.10.7)\n",
      "Requirement already satisfied: zipp>=0.5 in /usr/local/lib/python3.10/dist-packages (from importlib-metadata<7,>=5.0.0->composer[nlp,wandb]<0.15,>=0.14.1) (3.15.0)\n",
      "Requirement already satisfied: fonttools>=4.22.0 in /usr/local/lib/python3.10/dist-packages (from matplotlib<4,>=3.5.2->mosaicml-streaming<0.5,>=0.4.1) (4.39.4)\n",
      "Requirement already satisfied: cycler>=0.10 in /usr/local/lib/python3.10/dist-packages (from matplotlib<4,>=3.5.2->mosaicml-streaming<0.5,>=0.4.1) (0.11.0)\n",
      "Requirement already satisfied: kiwisolver>=1.0.1 in /usr/local/lib/python3.10/dist-packages (from matplotlib<4,>=3.5.2->mosaicml-streaming<0.5,>=0.4.1) (1.4.4)\n",
      "Requirement already satisfied: contourpy>=1.0.1 in /usr/local/lib/python3.10/dist-packages (from matplotlib<4,>=3.5.2->mosaicml-streaming<0.5,>=0.4.1) (1.0.7)\n",
      "Requirement already satisfied: pillow>=6.2.0 in /usr/local/lib/python3.10/dist-packages (from matplotlib<4,>=3.5.2->mosaicml-streaming<0.5,>=0.4.1) (9.4.0)\n",
      "Requirement already satisfied: pyparsing>=2.3.1 in /usr/local/lib/python3.10/dist-packages (from matplotlib<4,>=3.5.2->mosaicml-streaming<0.5,>=0.4.1) (3.0.9)\n",
      "Requirement already satisfied: cryptography<40.0.0,>=3.2.1 in /usr/local/lib/python3.10/dist-packages (from oci<3,>=2.88->mosaicml-streaming<0.5,>=0.4.1) (39.0.2)\n",
      "Requirement already satisfied: certifi in /usr/lib/python3/dist-packages (from oci<3,>=2.88->mosaicml-streaming<0.5,>=0.4.1) (2019.11.28)\n",
      "Requirement already satisfied: pytz>=2016.10 in /usr/local/lib/python3.10/dist-packages (from oci<3,>=2.88->mosaicml-streaming<0.5,>=0.4.1) (2023.3)\n",
      "Requirement already satisfied: circuitbreaker<2.0.0,>=1.3.1 in /usr/local/lib/python3.10/dist-packages (from oci<3,>=2.88->mosaicml-streaming<0.5,>=0.4.1) (1.4.0)\n",
      "Requirement already satisfied: pyOpenSSL<24.0.0,>=17.5.0 in /usr/local/lib/python3.10/dist-packages (from oci<3,>=2.88->mosaicml-streaming<0.5,>=0.4.1) (23.1.1)\n",
      "Requirement already satisfied: pynacl>=1.5 in /usr/local/lib/python3.10/dist-packages (from paramiko<4,>=2.11.0->mosaicml-streaming<0.5,>=0.4.1) (1.5.0)\n",
      "Requirement already satisfied: bcrypt>=3.2 in /usr/local/lib/python3.10/dist-packages (from paramiko<4,>=2.11.0->mosaicml-streaming<0.5,>=0.4.1) (4.0.1)\n",
      "Requirement already satisfied: wcwidth in /usr/local/lib/python3.10/dist-packages (from prompt-toolkit>=3.0.29->mosaicml-cli<1,>=0.3) (0.2.6)\n",
      "Requirement already satisfied: idna<4,>=2.5 in /usr/lib/python3/dist-packages (from requests>=2.19.0->datasets==2.10.1) (2.8)\n",
      "Requirement already satisfied: pygments<3.0.0,>=2.13.0 in /usr/local/lib/python3.10/dist-packages (from rich>=10.16.2->mosaicml-cli<1,>=0.3) (2.14.0)\n",
      "Requirement already satisfied: markdown-it-py<3.0.0,>=2.2.0 in /usr/local/lib/python3.10/dist-packages (from rich>=10.16.2->mosaicml-cli<1,>=0.3) (2.2.0)\n",
      "Requirement already satisfied: ruamel.yaml.clib>=0.2.7 in /usr/local/lib/python3.10/dist-packages (from ruamel.yaml>=0.17.21->mosaicml-cli<1,>=0.3) (0.2.7)\n",
      "Requirement already satisfied: greenlet!=0.4.17 in /usr/local/lib/python3.10/dist-packages (from SQLAlchemy<3,>=1.4->langchain==0.0.169) (2.0.2)\n",
      "Requirement already satisfied: pytorch-ranger>=0.1.1 in /usr/local/lib/python3.10/dist-packages (from torch-optimizer<0.4,>=0.3.0->composer[nlp,wandb]<0.15,>=0.14.1) (0.1.1)\n",
      "Requirement already satisfied: regex!=2019.12.17 in /usr/local/lib/python3.10/dist-packages (from transformers->peft==0.2.0) (2023.5.5)\n",
      "Requirement already satisfied: tokenizers!=0.11.3,<0.14,>=0.11.1 in /usr/local/lib/python3.10/dist-packages (from transformers->peft==0.2.0) (0.13.3)\n",
      "Requirement already satisfied: decorator>=3.4.0 in /usr/local/lib/python3.10/dist-packages (from validators>=0.20.0->mosaicml-cli<1,>=0.3) (5.1.1)\n",
      "Requirement already satisfied: Click!=8.0.0,>=7.0 in /usr/local/lib/python3.10/dist-packages (from wandb<0.16,>=0.13.2->composer[nlp,wandb]<0.15,>=0.14.1) (8.1.3)\n",
      "Requirement already satisfied: setproctitle in /usr/local/lib/python3.10/dist-packages (from wandb<0.16,>=0.13.2->composer[nlp,wandb]<0.15,>=0.14.1) (1.3.2)\n",
      "Requirement already satisfied: GitPython!=3.1.29,>=1.0.0 in /usr/local/lib/python3.10/dist-packages (from wandb<0.16,>=0.13.2->composer[nlp,wandb]<0.15,>=0.14.1) (3.1.31)\n",
      "Requirement already satisfied: docker-pycreds>=0.4.0 in /usr/local/lib/python3.10/dist-packages (from wandb<0.16,>=0.13.2->composer[nlp,wandb]<0.15,>=0.14.1) (0.4.0)\n",
      "Requirement already satisfied: pathtools in /usr/local/lib/python3.10/dist-packages (from wandb<0.16,>=0.13.2->composer[nlp,wandb]<0.15,>=0.14.1) (0.1.2)\n",
      "Requirement already satisfied: appdirs>=1.4.3 in /usr/local/lib/python3.10/dist-packages (from wandb<0.16,>=0.13.2->composer[nlp,wandb]<0.15,>=0.14.1) (1.4.4)\n",
      "Requirement already satisfied: sentry-sdk>=1.0.0 in /usr/local/lib/python3.10/dist-packages (from wandb<0.16,>=0.13.2->composer[nlp,wandb]<0.15,>=0.14.1) (1.24.0)\n",
      "Requirement already satisfied: humanfriendly>=9.1 in /usr/local/lib/python3.10/dist-packages (from coloredlogs->onnxruntime==1.14.1) (10.0)\n",
      "Requirement already satisfied: joblib in /usr/local/lib/python3.10/dist-packages (from nltk->sentence-transformers==2.2.2) (1.2.0)\n",
      "Requirement already satisfied: tzdata>=2022.1 in /usr/local/lib/python3.10/dist-packages (from pandas->datasets==2.10.1) (2023.3)\n",
      "Requirement already satisfied: threadpoolctl>=2.0.0 in /usr/local/lib/python3.10/dist-packages (from scikit-learn->sentence-transformers==2.2.2) (3.1.0)\n",
      "Requirement already satisfied: mpmath>=0.19 in /usr/local/lib/python3.10/dist-packages (from sympy->onnxruntime==1.14.1) (1.3.0)\n",
      "Requirement already satisfied: cffi>=1.12 in /usr/local/lib/python3.10/dist-packages (from cryptography<40.0.0,>=3.2.1->oci<3,>=2.88->mosaicml-streaming<0.5,>=0.4.1) (1.15.1)\n",
      "Requirement already satisfied: six>=1.4.0 in /usr/lib/python3/dist-packages (from docker-pycreds>=0.4.0->wandb<0.16,>=0.13.2->composer[nlp,wandb]<0.15,>=0.14.1) (1.14.0)\n",
      "Requirement already satisfied: gitdb<5,>=4.0.1 in /usr/local/lib/python3.10/dist-packages (from GitPython!=3.1.29,>=1.0.0->wandb<0.16,>=0.13.2->composer[nlp,wandb]<0.15,>=0.14.1) (4.0.10)\n",
      "Requirement already satisfied: mdurl~=0.1 in /usr/local/lib/python3.10/dist-packages (from markdown-it-py<3.0.0,>=2.2.0->rich>=10.16.2->mosaicml-cli<1,>=0.3) (0.1.2)\n",
      "Requirement already satisfied: mypy-extensions>=0.3.0 in /usr/local/lib/python3.10/dist-packages (from typing-inspect>=0.4.0->dataclasses-json<0.6.0,>=0.5.7->langchain==0.0.169) (1.0.0)\n",
      "Requirement already satisfied: pycparser in /usr/local/lib/python3.10/dist-packages (from cffi>=1.12->cryptography<40.0.0,>=3.2.1->oci<3,>=2.88->mosaicml-streaming<0.5,>=0.4.1) (2.21)\n",
      "Requirement already satisfied: smmap<6,>=3.0.1 in /usr/local/lib/python3.10/dist-packages (from gitdb<5,>=4.0.1->GitPython!=3.1.29,>=1.0.0->wandb<0.16,>=0.13.2->composer[nlp,wandb]<0.15,>=0.14.1) (5.0.0)\n",
      "\u001b[33mWARNING: Running pip as the 'root' user can result in broken permissions and conflicting behaviour with the system package manager. It is recommended to use a virtual environment instead: https://pip.pypa.io/warnings/venv\u001b[0m\u001b[33m\n",
      "\u001b[0m\n",
      "\u001b[1m[\u001b[0m\u001b[34;49mnotice\u001b[0m\u001b[1;39;49m]\u001b[0m\u001b[39;49m A new release of pip is available: \u001b[0m\u001b[31;49m23.0.1\u001b[0m\u001b[39;49m -> \u001b[0m\u001b[32;49m23.1.2\u001b[0m\n",
      "\u001b[1m[\u001b[0m\u001b[34;49mnotice\u001b[0m\u001b[1;39;49m]\u001b[0m\u001b[39;49m To update, run: \u001b[0m\u001b[32;49mpython -m pip install --upgrade pip\u001b[0m\n"
     ]
    }
   ],
   "source": [
    "install_requires = [\n",
    "    'composer[nlp,wandb]>=0.14.1,<0.15',\n",
    "    'mosaicml-streaming>=0.4.1,<0.5',\n",
    "    'torch==1.13.1',\n",
    "    'datasets==2.10.1',\n",
    "    'sentencepiece==0.1.97',\n",
    "    'einops==0.5.0',\n",
    "    'omegaconf>=2.2.3,<3',\n",
    "    'slack-sdk<4',\n",
    "    'mosaicml-cli>=0.3,<1',\n",
    "    'onnx==1.13.1',\n",
    "    'onnxruntime==1.14.1',\n",
    "    'langchain==0.0.169',\n",
    "    'bitsandbytes==0.35.0',\n",
    "    'accelerate==0.18.0',\n",
    "    'peft==0.2.0',\n",
    "    'sentence-transformers==2.2.2',\n",
    "    'accelerate>=0.16.0,<1',\n",
    "    'einops'\n",
    "]\n",
    "\n",
    "pkgs = \" \".join([f\"'{x}'\" for x in install_requires])\n",
    "!pip uninstall -y torchaudio\n",
    "!pip install {pkgs}"
   ]
  },
  {
   "cell_type": "code",
   "execution_count": 2,
   "id": "667f618d-129f-4a42-8673-87f11ce27c9a",
   "metadata": {
    "tags": []
   },
   "outputs": [],
   "source": [
    "import os\n",
    "from pathlib import Path\n",
    "\n",
    "Path('/workspace/.cache').mkdir(exist_ok=True)\n",
    "\n",
    "os.environ['TRANSFORMERS_CACHE'] = '/workspace/.cache'"
   ]
  },
  {
   "cell_type": "code",
   "execution_count": 13,
   "id": "ec137cdc-0bb4-45c3-b836-6c324f22d3a1",
   "metadata": {
    "tags": []
   },
   "outputs": [
    {
     "data": {
      "application/vnd.jupyter.widget-view+json": {
       "model_id": "07aa20b5f905430d863886087f082356",
       "version_major": 2,
       "version_minor": 0
      },
      "text/plain": [
       "Downloading (…)okenizer_config.json:   0%|          | 0.00/156 [00:00<?, ?B/s]"
      ]
     },
     "metadata": {},
     "output_type": "display_data"
    },
    {
     "data": {
      "application/vnd.jupyter.widget-view+json": {
       "model_id": "d0b0dd68b27a4bd180cf50e152bd22e3",
       "version_major": 2,
       "version_minor": 0
      },
      "text/plain": [
       "Downloading (…)olve/main/vocab.json:   0%|          | 0.00/1.08M [00:00<?, ?B/s]"
      ]
     },
     "metadata": {},
     "output_type": "display_data"
    },
    {
     "data": {
      "application/vnd.jupyter.widget-view+json": {
       "model_id": "633eb1129e1e4f55a65558858327d533",
       "version_major": 2,
       "version_minor": 0
      },
      "text/plain": [
       "Downloading (…)olve/main/merges.txt:   0%|          | 0.00/457k [00:00<?, ?B/s]"
      ]
     },
     "metadata": {},
     "output_type": "display_data"
    },
    {
     "data": {
      "application/vnd.jupyter.widget-view+json": {
       "model_id": "905e48bfeda448b1b3f98f7d34f68ec6",
       "version_major": 2,
       "version_minor": 0
      },
      "text/plain": [
       "Downloading (…)/main/tokenizer.json:   0%|          | 0.00/2.11M [00:00<?, ?B/s]"
      ]
     },
     "metadata": {},
     "output_type": "display_data"
    },
    {
     "data": {
      "application/vnd.jupyter.widget-view+json": {
       "model_id": "4f44db3fbcca4375a1168d3ccf3b8d13",
       "version_major": 2,
       "version_minor": 0
      },
      "text/plain": [
       "Downloading (…)cial_tokens_map.json:   0%|          | 0.00/90.0 [00:00<?, ?B/s]"
      ]
     },
     "metadata": {},
     "output_type": "display_data"
    }
   ],
   "source": []
  },
  {
   "cell_type": "code",
   "execution_count": 3,
   "id": "8d56d1dc-6dbd-46a0-9519-47945d77ce45",
   "metadata": {
    "tags": []
   },
   "outputs": [],
   "source": [
    "from typing import Any, Dict, Tuple\n",
    "import warnings\n",
    "\n",
    "from transformers import AutoTokenizer, AutoModelForCausalLM, GenerationConfig\n",
    "from transformers import StoppingCriteria, StoppingCriteriaList, TextIteratorStreamer\n",
    "import torch\n",
    "\n",
    "model_name = 'mosaicml/mpt-7b-instruct'\n",
    "\n",
    "INSTRUCTION_KEY = \"### Instruction:\"\n",
    "RESPONSE_KEY = \"### Response:\"\n",
    "END_KEY = \"### End\"\n",
    "INTRO_BLURB = \"Below is an instruction that describes a task. Write a response that appropriately completes the request based on the Input if any input is provided.\"\n",
    "INPUT_CONTEXT = \"\"\"### Input: {context}\"\"\"\n",
    "PROMPT_FOR_GENERATION_FORMAT = \"\"\"{intro}\n",
    "{input_context}\n",
    "{instruction_key}\n",
    "{instruction}\n",
    "{response_key}\n",
    "\"\"\".format(\n",
    "    intro=INTRO_BLURB,\n",
    "    input_context=INPUT_CONTEXT,\n",
    "    instruction_key=INSTRUCTION_KEY,\n",
    "    instruction=\"{instruction}\",\n",
    "    response_key=RESPONSE_KEY,\n",
    ")\n",
    "\n",
    "\n",
    "class InstructionTextGenerationPipeline:\n",
    "    def __init__(\n",
    "        self,\n",
    "        model,\n",
    "        tokenizer\n",
    "    ) -> None:\n",
    "        self.model = model\n",
    "        self.tokenizer = tokenizer\n",
    "        \n",
    "    def format_instruction(self, instruction, context=\"\"):\n",
    "        return PROMPT_FOR_GENERATION_FORMAT.format(instruction=instruction, context=context)\n",
    "\n",
    "    def __call__(\n",
    "        self, instruction: str, context:str, **generate_kwargs: Dict[str, Any]\n",
    "    ) -> Tuple[str, str, float]:\n",
    "        s = PROMPT_FOR_GENERATION_FORMAT.format(instruction=instruction, context=context)\n",
    "        input_ids = self.tokenizer(s, return_tensors=\"pt\").input_ids\n",
    "        input_ids = input_ids.to(self.model.device)\n",
    "        with torch.no_grad():\n",
    "            output_ids = self.model.generate(input_ids, **generate_kwargs)\n",
    "        # Slice the output_ids tensor to get only new tokens\n",
    "        new_tokens = output_ids[0, len(input_ids[0]) :]\n",
    "        output_text = self.tokenizer.decode(new_tokens, skip_special_tokens=True)\n",
    "        return output_text\n",
    "    \n",
    "\n",
    "def model_fn():\n",
    "        model = AutoModelForCausalLM.from_pretrained(\n",
    "            model_name,\n",
    "            trust_remote_code = True,\n",
    "            torch_dtype=torch.bfloat16,\n",
    "            max_seq_len=2048\n",
    "        )\n",
    "        tokenizer = AutoTokenizer.from_pretrained(\n",
    "            model_name,\n",
    "            trust_remote_code = True,\n",
    "            device_map='auto'\n",
    "        )\n",
    "        if tokenizer.pad_token_id is None:\n",
    "            tokenizer.pad_token = tokenizer.eos_token\n",
    "        tokenizer.padding_side = \"left\"\n",
    "        device = torch.device(\"cuda\" if torch.cuda.is_available() else \"cpu\")\n",
    "        model.eval()\n",
    "        model.to(device=device, dtype=torch.bfloat16)\n",
    "        return model, tokenizer\n",
    "\n",
    "def predict_fn(data, model_and_tokenizer):\n",
    "    model, tokenizer = model_and_tokenizer\n",
    "    prompt = data.pop(\"inputs\", data)\n",
    "    context = data.pop(\"context\", data)\n",
    "    generate_text = InstructionTextGenerationPipeline(model=model, tokenizer=tokenizer)\n",
    "    response =  generate_text(prompt, context, **data)\n",
    "    return response\n"
   ]
  },
  {
   "cell_type": "code",
   "execution_count": 9,
   "id": "c1c3a4c0-665d-4a56-b3d0-f0e4505b1f5f",
   "metadata": {
    "tags": []
   },
   "outputs": [
    {
     "data": {
      "text/plain": [
       "'Below is an instruction that describes a task. Write a response that appropriately completes the request based on the Input if any input is provided.\\n### Input: {context}\\n### Instruction:\\n{instruction}\\n### Response:\\n'"
      ]
     },
     "execution_count": 9,
     "metadata": {},
     "output_type": "execute_result"
    }
   ],
   "source": []
  },
  {
   "cell_type": "code",
   "execution_count": 4,
   "id": "90d954b0-874f-42b0-bbc8-fbd65b3e45a1",
   "metadata": {
    "tags": []
   },
   "outputs": [
    {
     "name": "stderr",
     "output_type": "stream",
     "text": [
      "Explicitly passing a `revision` is encouraged when loading a configuration with custom code to ensure no malicious code has been contributed in a newer revision.\n",
      "Explicitly passing a `revision` is encouraged when loading a model with custom code to ensure no malicious code has been contributed in a newer revision.\n",
      "/root/.cache/huggingface/modules/transformers_modules/mosaicml/mpt-7b-instruct/665b2900b1ceabbf2723580f03f659f70fcba26b/attention.py:157: UserWarning: Using `attn_impl: torch`. If your model does not use `alibi` or `prefix_lm` we recommend using `attn_impl: flash` otherwise we recommend using `attn_impl: triton`.\n",
      "  warnings.warn('Using `attn_impl: torch`. If your model does not use `alibi` or ' + '`prefix_lm` we recommend using `attn_impl: flash` otherwise ' + 'we recommend using `attn_impl: triton`.')\n"
     ]
    },
    {
     "data": {
      "application/vnd.jupyter.widget-view+json": {
       "model_id": "a86f5aa7aaee426ca5bdddb8b0aa030d",
       "version_major": 2,
       "version_minor": 0
      },
      "text/plain": [
       "Loading checkpoint shards:   0%|          | 0/2 [00:00<?, ?it/s]"
      ]
     },
     "metadata": {},
     "output_type": "display_data"
    }
   ],
   "source": [
    "model_and_tokenizer = model_fn()"
   ]
  },
  {
   "cell_type": "code",
   "execution_count": 24,
   "id": "4d5c91a3-8ce7-4093-bdc7-8968ffa9c033",
   "metadata": {
    "tags": []
   },
   "outputs": [],
   "source": [
    "\n",
    "def get_input_data(inputs, context=\"\", temperature=0.1, max_length=512):\n",
    "    data = {\n",
    "        \"inputs\": inputs,\n",
    "        \"context\": context,\n",
    "        \"temperature\": temperature,\n",
    "        \"max_length\": 512,\n",
    "        \"do_sample\": False\n",
    "    }\n",
    "    return data\n",
    "\n",
    "\n"
   ]
  },
  {
   "cell_type": "code",
   "execution_count": null,
   "id": "5d11ac2f-90d5-49e3-aea2-ee81ca619309",
   "metadata": {
    "tags": []
   },
   "outputs": [],
   "source": [
    "prompt = \"Write a short story about a robot that has a nice day.\"\n",
    "context = \"Name of the robot is Jane\"\n",
    "\n",
    "\n",
    "response = predict_fn(get_input_data(inputs=prompt, context=context, temperature=0.5), model_and_tokenizer)\n",
    "response"
   ]
  },
  {
   "cell_type": "code",
   "execution_count": null,
   "id": "66d7345c-85d6-4590-b982-14301b5c6cf8",
   "metadata": {
    "tags": []
   },
   "outputs": [],
   "source": [
    "prompt = \"What is Driver protection cover? Provide a one line short answer.\"\n",
    "context = \"Driver Protection Cover is extra cover We automatically provide with Your NRMA Compulsory Third Party (CTP) Insurance on most passenger Vehicles and some goods Vehicles. See Table 1. for the Vehicles that We cover and those We do not cover.Driver Protection Cover provides the driver of a covered Vehicle who suffers one or more of the injuries listed in the specified injuries table with a set payment if the driver was at-fault in the accident in which they were injured\"\n",
    "\n",
    "\n",
    "response = predict_fn(get_input_data(inputs=prompt, context=context), model_and_tokenizer)\n",
    "response"
   ]
  },
  {
   "cell_type": "code",
   "execution_count": 16,
   "id": "add32f47-c51b-49a5-83c2-a6bb7789ed23",
   "metadata": {
    "tags": []
   },
   "outputs": [
    {
     "data": {
      "text/plain": [
       "'Driver protection cover is a type of insurance that covers the driver of a vehicle for any legal liability arising from an accident.#\\n\\n#\\n\\n#\\n\\n#\\n\\n#\\n\\n#\\n\\n#\\n\\n#\\n\\n#\\n\\n#\\n\\n#\\n\\n#\\n\\n#\\n\\n#\\n\\n#\\n\\n#\\n\\n#\\n\\n#\\n\\n#\\n\\n#\\n\\n#\\n\\n#\\n\\n#\\n\\n#\\n\\n#\\n\\n#\\n\\n#\\n\\n#\\n\\n#\\n\\n#\\n\\n#\\n\\n#\\n\\n#\\n\\n#\\n\\n#\\n\\n#\\n\\n#\\n\\n#\\n\\n#\\n\\n#\\n\\n#\\n\\n#\\n\\n#\\n\\n#\\n\\n#\\n\\n#\\n\\n#\\n\\n#\\n\\n#\\n\\n#\\n\\n#\\n\\n#\\n\\n#\\n\\n#\\n\\n#\\n\\n#\\n\\n#\\n\\n#\\n\\n#\\n\\n#\\n\\n#\\n\\n#\\n\\n#\\n\\n#\\n\\n#\\n\\n#\\n\\n#\\n\\n#\\n\\n#\\n\\n#\\n\\n#\\n\\n#\\n\\n#\\n\\n#\\n\\n#\\n\\n#\\n\\n#\\n\\n#\\n\\n#\\n\\n#\\n\\n#\\n\\n#\\n\\n#\\n\\n#\\n\\n#\\n\\n#\\n\\n#\\n\\n#\\n\\n#\\n\\n#\\n\\n#\\n\\n#\\n\\n#\\n\\n#\\n\\n#\\n\\n#\\n\\n#\\n\\n#\\n\\n#\\n\\n#\\n\\n#\\n\\n#\\n\\n#\\n\\n#\\n\\n#\\n\\n#\\n\\n#\\n\\n#\\n\\n#\\n\\n#\\n\\n#\\n\\n#\\n\\n#\\n\\n#\\n\\n#\\n\\n#\\n\\n#\\n\\n#\\n\\n#\\n\\n#\\n\\n#\\n\\n#\\n\\n#\\n\\n#\\n\\n#\\n\\n#\\n\\n#\\n\\n#\\n\\n#\\n\\n#\\n\\n#\\n\\n#\\n\\n#\\n\\n#\\n\\n#\\n\\n#\\n\\n#\\n\\n#\\n\\n#\\n\\n#\\n\\n#\\n\\n#\\n\\n#\\n\\n#\\n'"
      ]
     },
     "execution_count": 16,
     "metadata": {},
     "output_type": "execute_result"
    }
   ],
   "source": [
    "prompt = \"what is Driver protection cover? Provide a one line short answer.\"\n",
    "context = \"\"\n",
    "\n",
    "\n",
    "response = predict_fn(get_input_data(inputs=prompt, context=context), model_and_tokenizer)\n",
    "response"
   ]
  },
  {
   "cell_type": "code",
   "execution_count": 6,
   "id": "b7c23e2d-3ffc-44fa-b0fe-ed026e6e30f8",
   "metadata": {
    "tags": []
   },
   "outputs": [],
   "source": [
    "import torch\n",
    "from transformers import StoppingCriteria, StoppingCriteriaList\n",
    "\n",
    "model, tokenizer = model_and_tokenizer\n",
    "\n",
    "# mtp-7b is trained to add \"<|endoftext|>\" at the end of generations\n",
    "stop_token_ids = tokenizer.convert_tokens_to_ids([\"<|endoftext|>\"])\n",
    "\n",
    "# define custom stopping criteria object\n",
    "class StopOnTokens(StoppingCriteria):\n",
    "    def __call__(self, input_ids: torch.LongTensor, scores: torch.FloatTensor, **kwargs) -> bool:\n",
    "        for stop_id in stop_token_ids:\n",
    "            if input_ids[0][-1] == stop_id:\n",
    "                return True\n",
    "        return False\n",
    "\n",
    "stopping_criteria = StoppingCriteriaList([StopOnTokens()])"
   ]
  },
  {
   "cell_type": "code",
   "execution_count": 25,
   "id": "d65c73ee-ca60-4f80-917b-a7dc1c79c005",
   "metadata": {
    "tags": []
   },
   "outputs": [
    {
     "name": "stderr",
     "output_type": "stream",
     "text": [
      "The model 'MPTForCausalLM' is not supported for text-generation. Supported models are ['BartForCausalLM', 'BertLMHeadModel', 'BertGenerationDecoder', 'BigBirdForCausalLM', 'BigBirdPegasusForCausalLM', 'BioGptForCausalLM', 'BlenderbotForCausalLM', 'BlenderbotSmallForCausalLM', 'BloomForCausalLM', 'CamembertForCausalLM', 'CodeGenForCausalLM', 'CpmAntForCausalLM', 'CTRLLMHeadModel', 'Data2VecTextForCausalLM', 'ElectraForCausalLM', 'ErnieForCausalLM', 'GitForCausalLM', 'GPT2LMHeadModel', 'GPT2LMHeadModel', 'GPTBigCodeForCausalLM', 'GPTNeoForCausalLM', 'GPTNeoXForCausalLM', 'GPTNeoXJapaneseForCausalLM', 'GPTJForCausalLM', 'LlamaForCausalLM', 'MarianForCausalLM', 'MBartForCausalLM', 'MegaForCausalLM', 'MegatronBertForCausalLM', 'MvpForCausalLM', 'OpenAIGPTLMHeadModel', 'OPTForCausalLM', 'PegasusForCausalLM', 'PLBartForCausalLM', 'ProphetNetForCausalLM', 'QDQBertLMHeadModel', 'ReformerModelWithLMHead', 'RemBertForCausalLM', 'RobertaForCausalLM', 'RobertaPreLayerNormForCausalLM', 'RoCBertForCausalLM', 'RoFormerForCausalLM', 'Speech2Text2ForCausalLM', 'TransfoXLLMHeadModel', 'TrOCRForCausalLM', 'XGLMForCausalLM', 'XLMWithLMHeadModel', 'XLMProphetNetForCausalLM', 'XLMRobertaForCausalLM', 'XLMRobertaXLForCausalLM', 'XLNetLMHeadModel', 'XmodForCausalLM'].\n"
     ]
    },
    {
     "name": "stdout",
     "output_type": "stream",
     "text": [
      "Device cuda:0\n"
     ]
    }
   ],
   "source": [
    "from langchain import PromptTemplate, LLMChain\n",
    "from langchain.llms import HuggingFacePipeline\n",
    "from torch import cuda\n",
    "import transformers \n",
    "\n",
    "device = f'cuda:{cuda.current_device()}' if cuda.is_available() else 'cpu'\n",
    "print(f\"Device {device}\")\n",
    "\n",
    "\n",
    "\n",
    "generate_text = transformers.pipeline(\n",
    "    model=model, tokenizer=tokenizer,\n",
    "    return_full_text=True,  # langchain expects the full text\n",
    "    task='text-generation',\n",
    "    device=device,\n",
    "    # we pass model parameters here too\n",
    "    stopping_criteria=stopping_criteria,  # without this model will ramble\n",
    "    temperature=0.1,  # 'randomness' of outputs, 0.0 is the min and 1.0 the max\n",
    "    top_p=0.15,  # select from top tokens whose probability add up to 15%\n",
    "    top_k=0,  # select from top 0 tokens (because zero, relies on top_p)\n",
    "    max_new_tokens=512,  # mex number of tokens to generate in the output\n",
    "    repetition_penalty=1.1  # without this output begins repeating\n",
    ")\n",
    "     \n",
    "# template for an instruction with no input\n",
    "prompt = PromptTemplate(\n",
    "    input_variables=[\"instruction\"],\n",
    "    template=\"{instruction}\\n\\n###RESPONSE:\"\n",
    ")\n",
    "prompt_with_context = PromptTemplate(\n",
    "    input_variables=[\"instruction\", \"context\"],\n",
    "    template=\"{instruction}\\n\\nInput:\\n{context} \\n\\n###RESPONSE:\")\n",
    "\n",
    "\n",
    "llm = HuggingFacePipeline(pipeline=generate_text)\n",
    "\n",
    "llm_chain = LLMChain(llm=llm, prompt=prompt)\n",
    "llm_chain_wc = LLMChain(llm=llm, prompt=prompt_with_context)\n"
   ]
  },
  {
   "cell_type": "code",
   "execution_count": 24,
   "id": "9e352cbb-b9dc-4393-86ec-8ed210782419",
   "metadata": {
    "tags": []
   },
   "outputs": [
    {
     "name": "stdout",
     "output_type": "stream",
     "text": [
      "Driver Protection Cover provides you with an additional layer of financial security in case your car meets with any accident and needs repairs or replacement, which may not be covered under standard insurance policies\n",
      "NRMA CTP insurance covers drivers from third party claims, but does not protect them against their own accidents\n"
     ]
    }
   ],
   "source": [
    "query = \"Explain to me What is Driver protection cover based on the Input below. Provide a one line short answer.\"\n",
    "context = \"Driver Protection Cover is extra cover We automatically provide with Your NRMA Compulsory Third Party (CTP) Insurance on most passenger Vehicles and some goods Vehicles. See Table 1. for the Vehicles that We cover and those We do not cover.Driver Protection Cover provides the driver of a covered Vehicle who suffers one or more of the injuries listed in the specified injuries table with a set payment if the driver was at-fault in the accident in which they were injured\"\n",
    "\n",
    "print(llm_chain.predict(instruction=query).lstrip())\n",
    "\n",
    "print(llm_chain_wc.predict(instruction=query, context=context).lstrip())\n"
   ]
  },
  {
   "cell_type": "code",
   "execution_count": 17,
   "id": "4ef636c9-e565-4693-af5e-bc775337c945",
   "metadata": {
    "tags": []
   },
   "outputs": [
    {
     "name": "stdout",
     "output_type": "stream",
     "text": [
      "Nuclear Fission is a process that splits heavy atoms into smaller, lighter ones by splitting their nuclei apart using high-energy particles or neutrons (a type of subatomic particle). Nuclear Fusion occurs when two light atomic nuclei are combined together in such a way as to form one heavier nucleus with the release of energy.\n"
     ]
    }
   ],
   "source": [
    "query = \"Explain to me the difference between nuclear fission and fusion.\"\n",
    "print(llm_chain.predict(instruction=query).lstrip())\n",
    "\n",
    "\n",
    "# print(llm_chain.predict(\n",
    "#     instruction=\"Explain to me the difference between nuclear fission and fusion.\"\n",
    "# ).lstrip())\n"
   ]
  }
 ],
 "metadata": {
  "kernelspec": {
   "display_name": "Python 3 (ipykernel)",
   "language": "python",
   "name": "python3"
  },
  "language_info": {
   "codemirror_mode": {
    "name": "ipython",
    "version": 3
   },
   "file_extension": ".py",
   "mimetype": "text/x-python",
   "name": "python",
   "nbconvert_exporter": "python",
   "pygments_lexer": "ipython3",
   "version": "3.10.10"
  }
 },
 "nbformat": 4,
 "nbformat_minor": 5
}
