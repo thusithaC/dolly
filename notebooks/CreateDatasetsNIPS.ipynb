{
 "cells": [
  {
   "cell_type": "code",
   "execution_count": 1,
   "metadata": {
    "collapsed": true,
    "ExecuteTime": {
     "end_time": "2023-05-17T00:47:26.565078516Z",
     "start_time": "2023-05-17T00:47:26.164686667Z"
    }
   },
   "outputs": [],
   "source": [
    "import pandas as pd\n",
    "import sqlite3\n",
    "\n"
   ]
  },
  {
   "cell_type": "code",
   "execution_count": 3,
   "outputs": [],
   "source": [
    "con = sqlite3.connect(\"/home/thusitha/work/bigdata/NIPSdataset/archive/database.sqlite\")"
   ],
   "metadata": {
    "collapsed": false,
    "ExecuteTime": {
     "end_time": "2023-05-16T23:22:40.942834887Z",
     "start_time": "2023-05-16T23:22:40.941574824Z"
    }
   }
  },
  {
   "cell_type": "code",
   "execution_count": 7,
   "outputs": [
    {
     "data": {
      "text/plain": "('Papers',)"
     },
     "execution_count": 7,
     "metadata": {},
     "output_type": "execute_result"
    }
   ],
   "source": [
    "cur = con.cursor()\n",
    "res = cur.execute(\"\"\"SELECT name FROM sqlite_master  WHERE type='table';\"\"\")\n",
    "res.fetchone()\n",
    "\n"
   ],
   "metadata": {
    "collapsed": false,
    "ExecuteTime": {
     "end_time": "2023-05-16T23:25:50.779123052Z",
     "start_time": "2023-05-16T23:25:50.728637467Z"
    }
   }
  },
  {
   "cell_type": "code",
   "execution_count": 14,
   "outputs": [
    {
     "data": {
      "text/plain": "('Texture Synthesis Using Convolutional Neural Networks',\n '5633-texture-synthesis-using-convolutional-neural-networks.pdf',\n 'Texture Synthesis Using Convolutional Neural\\nNetworks\\nLeon A. Gatys\\nCentre for Integrative Neuroscience, University of Tübingen, Germany\\nBernstein Center for Computational Neuroscience, Tübingen, Germany\\nGraduate School of Neural Information Processing, University of Tübingen, Germany\\nleon.gatys@bethgelab.org\\nAlexander S. Ecker\\nCentre for Integrative Neuroscience, University of Tübingen, Germany\\nBernstein Center for Computational Neuroscience, Tübingen, Germany\\nMax Planck Institute for Biological Cybernetics, Tübingen, Germany\\nBaylor College of Medicine, Houston, TX, USA\\nMatthias Bethge\\nCentre for Integrative Neuroscience, University of Tübingen, Germany\\nBernstein Center for Computational Neuroscience, Tübingen, Germany\\nMax Planck Institute for Biological Cybernetics, Tübingen, Germany\\n\\nAbstract\\nHere we introduce a new model of natural textures based on the feature spaces\\nof convolutional neural networks optimised for object recognition. Samples from\\nthe model are of high perceptual quality demonstrating the generative power of\\nneural networks trained in a purely discriminative fashion. Within the model, textures are represented by the correlations between feature maps in several layers of\\nthe network. We show that across layers the texture representations increasingly\\ncapture the statistical properties of natural images while making object information more and more explicit. The model provides a new tool to generate stimuli\\nfor neuroscience and might offer insights into the deep representations learned by\\nconvolutional neural networks.\\n\\n1\\n\\nIntroduction\\n\\nThe goal of visual texture synthesis is to infer a generating process from an example texture, which\\nthen allows to produce arbitrarily many new samples of that texture. The evaluation criterion for the\\nquality of the synthesised texture is usually human inspection and textures are successfully synthesised if a human observer cannot tell the original texture from a synthesised one.\\nIn general, there are two main approaches to find a texture generating process. The first approach is\\nto generate a new texture by resampling either pixels [5, 28] or whole patches [6, 16] of the original\\ntexture. These non-parametric resampling techniques and their numerous extensions and improvements (see [27] for review) are capable of producing high quality natural textures very efficiently.\\nHowever, they do not define an actual model for natural textures but rather give a mechanistic procedure for how one can randomise a source texture without changing its perceptual properties.\\nIn contrast, the second approach to texture synthesis is to explicitly define a parametric texture\\nmodel. The model usually consists of a set of statistical measurements that are taken over the\\n1\\n\\n\\x0c1\\n\\n512\\n...\\n\\n4\\n\\nconv5_ 3 2\\n1\\n\\n1\\n\\npool4\\n\\n512\\n...\\n\\n4\\n\\nconv4_ 3 2\\n1\\n\\n1\\n\\n256\\n...\\n\\npool3\\n4\\n\\nconv3_ 3 2\\n1\\n\\npool2\\n1\\n\\n1\\n\\n128\\n...\\n\\n64\\n...\\n\\n# feature\\nmaps\\n\\nconv2_ 1 2\\npool1\\nconv1_\\n\\n2\\n1\\n\\nGradient\\ndescent\\n\\ninput\\n\\nFigure 1: Synthesis method. Texture analysis (left). The original texture is passed through the CNN\\nand the Gram matrices Gl on the feature responses of a number of layers are computed. Texture\\nˆ is passed through the CNN and a loss function El is\\nsynthesis (right). A white noise image ~x\\ncomputed on every layer included in the texture model. The total loss function L is a weighted sum\\nof the contributions El from each layer. Using gradient descent on the total loss with respect to the\\npixel values, a new image is found that produces the same Gram matrices Ĝl as the original texture.\\n\\nspatial extent of the image. In the model a texture is uniquely defined by the outcome of those\\nmeasurements and every image that produces the same outcome should be perceived as the same\\ntexture. Therefore new samples of a texture can be generated by finding an image that produces the\\nsame measurement outcomes as the original texture. Conceptually this idea was first proposed by\\nJulesz [13] who conjectured that a visual texture can be uniquely described by the Nth-order joint\\nhistograms of its pixels. Later on, texture models were inspired by the linear response properties\\nof the mammalian early visual system, which resemble those of oriented band-pass (Gabor) filters\\n[10, 21]. These texture models are based on statistical measurements taken on the filter responses\\nrather than directly on the image pixels. So far the best parametric model for texture synthesis\\nis probably that proposed by Portilla and Simoncelli [21], which is based on a set of carefully\\nhandcrafted summary statistics computed on the responses of a linear filter bank called Steerable\\nPyramid [24]. However, although their model shows very good performance in synthesising a wide\\nrange of textures, it still fails to capture the full scope of natural textures.\\nIn this work, we propose a new parametric texture model to tackle this problem (Fig. 1). Instead\\nof describing textures on the basis of a model for the early visual system [21, 10], we use a convolutional neural network – a functional model for the entire ventral stream – as the foundation for\\nour texture model. We combine the conceptual framework of spatial summary statistics on feature\\nresponses with the powerful feature space of a convolutional neural network that has been trained on\\nobject recognition. In that way we obtain a texture model that is parameterised by spatially invariant\\nrepresentations built on the hierarchical processing architecture of the convolutional neural network.\\n2\\n\\n\\x0c2\\n\\nConvolutional neural network\\n\\nWe use the VGG-19 network, a convolutional neural network trained on object recognition that was\\nintroduced and extensively described previously [25]. Here we give only a brief summary of its\\narchitecture.\\nWe used the feature space provided by the 16 convolutional and 5 pooling layers of the VGG-19\\nnetwork. We did not use any of the fully connected layers. The network’s architecture is based on\\ntwo fundamental computations:\\n1. Linearly rectified convolution with filters of size 3 × 3 × k where k is the number of input\\nfeature maps. Stride and padding of the convolution is equal to one such that the output\\nfeature map has the same spatial dimensions as the input feature maps.\\n2. Maximum pooling in non-overlapping 2×2 regions, which down-samples the feature maps\\nby a factor of two.\\nThese two computations are applied in an alternating manner (see Fig. 1). A number of convolutional\\nlayers is followed by a max-pooling layer. After each of the first three pooling layers the number of\\nfeature maps is doubled. Together with the spatial down-sampling, this transformation results in a\\nreduction of the total number of feature responses by a factor of two. Fig. 1 provides a schematic\\noverview over the network architecture and the number of feature maps in each layer. Since we\\nuse only the convolutional layers, the input images can be arbitrarily large. The first convolutional\\nlayer has the same size as the image and for the following layers the ratio between the feature map\\nsizes remains fixed. Generally each layer in the network defines a non-linear filter bank, whose\\ncomplexity increases with the position of the layer in the network.\\nThe trained convolutional network is publicly available and its usability for new applications is\\nsupported by the caffe-framework [12]. For texture generation we found that replacing the maxpooling operation by average pooling improved the gradient flow and one obtains slightly cleaner\\nresults, which is why the images shown below were generated with average pooling. Finally, for\\npractical reasons, we rescaled the weights in the network such that the mean activation of each filter\\nover images and positions is equal to one. Such re-scaling can always be done without changing the\\noutput of a neural network if the non-linearities in the network are rectifying linear 1 .\\n\\n3\\n\\nTexture model\\n\\nThe texture model we describe in the following is much in the spirit of that proposed by Portilla\\nand Simoncelli [21]. To generate a texture from a given source image, we first extract features of\\ndifferent sizes homogeneously from this image. Next we compute a spatial summary statistic on the\\nfeature responses to obtain a stationary description of the source image (Fig. 1A). Finally we find a\\nnew image with the same stationary description by performing gradient descent on a random image\\nthat has been initialised with white noise (Fig. 1B).\\nThe main difference to Portilla and Simoncelli’s work is that instead of using a linear filter bank\\nand a set of carefully chosen summary statistics, we use the feature space provided by a highperforming deep neural network and only one spatial summary statistic: the correlations between\\nfeature responses in each layer of the network.\\nTo characterise a given vectorised texture ~x in our model, we first pass ~x through the convolutional\\nneural network and compute the activations for each layer l in the network. Since each layer in the\\nnetwork can be understood as a non-linear filter bank, its activations in response to an image form a\\nset of filtered images (so-called feature maps). A layer with Nl distinct filters has Nl feature maps\\neach of size Ml when vectorised. These feature maps can be stored in a matrix F l ∈ RNl ×Ml , where\\nl\\nFjk\\nis the activation of the j th filter at position k in layer l. Textures are per definition stationary,\\nso a texture model needs to be agnostic to spatial information. A summary statistic that discards\\nthe spatial information in the feature maps is given by the correlations between the responses of\\n1\\nSource code to generate textures with CNNs as well as the rescaled VGG-19 network can be found at\\nhttp://github.com/leongatys/DeepTextures\\n\\n3\\n\\n\\x0cdifferent features. These feature correlations are, up to a constant of proportionality, given by the\\nGram matrix Gl ∈ RNl ×Nl , where Glij is the inner product between feature map i and j in layer l:\\nX\\nl\\nl\\nGlij =\\nFik\\nFjk\\n.\\n(1)\\nk\\n1\\n\\n2\\n\\nL\\n\\nA set of Gram matrices {G , G , ..., G } from some layers 1, . . . , L in the network in response to\\na given texture provides a stationary description of the texture, which fully specifies a texture in our\\nmodel (Fig. 1A).\\n\\n4\\n\\nTexture generation\\n\\nTo generate a new texture on the basis of a given image, we use gradient descent from a white noise\\nimage to find another image that matches the Gram-matrix representation of the original image.\\nThis optimisation is done by minimising the mean-squared distance between the entries of the Gram\\nmatrix of the original image and the Gram matrix of the image being generated (Fig. 1B).\\nˆ be the original image and the image that is generated, and Gl and Ĝl their respective\\nLet ~x and ~x\\nGram-matrix representations in layer l (Eq. 1). The contribution of layer l to the total loss is then\\n\\x112\\nX\\x10\\n1\\nEl =\\nGlij − Ĝlij\\n(2)\\n2\\n2\\n4Nl Ml i,j\\nand the total loss is\\nˆ) =\\nL(~x, ~x\\n\\nL\\nX\\n\\nwl El\\n\\n(3)\\n\\nl=0\\n\\nwhere wl are weighting factors of the contribution of each layer to the total loss. The derivative of\\nEl with respect to the activations in layer l can be computed analytically:\\n\\x10\\n\\x10\\n\\x11\\x11\\n(\\n1\\nl T\\nl\\nl\\n(\\nF̂\\n)\\nG\\n−\\nĜ\\nif F̂ijl > 0\\n∂El\\n2\\n2\\nNl Ml\\nji\\n=\\n(4)\\n∂ F̂ijl\\n0\\nif F̂ijl < 0 .\\nˆ), with respect to the pixels ~x\\nˆ can be readily\\nThe gradients of El , and thus the gradient of L(~x, ~x\\n∂L\\ncomputed using standard error back-propagation [18]. The gradient ∂ ~xˆ can be used as input for\\nsome numerical optimisation strategy. In our work we use L-BFGS [30], which seemed a reasonable\\nchoice for the high-dimensional optimisation problem at hand. The entire procedure relies mainly\\non the standard forward-backward pass that is used to train the convolutional network. Therefore, in\\nspite of the large complexity of the model, texture generation can be done in reasonable time using\\nGPUs and performance-optimised toolboxes for training deep neural networks [12].\\n\\n5\\n\\nResults\\n\\nWe show textures generated by our model from four different source images (Fig. 2). Each row of\\nimages was generated using an increasing number of layers in the texture model to constrain the\\ngradient descent (the labels in the figure indicate the top-most layer included). In other words, for\\nthe loss terms above a certain layer we set the weights wl = 0, while for the loss terms below\\nand including that layer, we set wl = 1. For example the images in the first row (‘conv1 1’) were\\ngenerated only from the texture representation of the first layer (‘conv1 1’) of the VGG network. The\\nimages in the second row (‘pool1’) where generated by jointly matching the texture representations\\non top of layer ‘conv1 1’, ‘conv1 2’ and ‘pool1’. In this way we obtain textures that show what\\nstructure of natural textures are captured by certain computational processing stages of the texture\\nmodel.\\nThe first three columns show images generated from natural textures. We find that constraining all\\nlayers up to layer ‘pool4’ generates complex natural textures that are almost indistinguishable from\\nthe original texture (Fig. 2, fifth row). In contrast, when constraining only the feature correlations\\non the lowest layer, the textures contain little structure and are not far from spectrally matched noise\\n4\\n\\n\\x0cconv1_1\\npool1\\npool2\\npool3\\npool4\\noriginal\\nPortilla & Simoncelli\\n\\nFigure 2: Generated stimuli. Each row corresponds to a different processing stage in the network.\\nWhen only constraining the texture representation on the lowest layer, the synthesised textures have\\nlittle structure (first row). With increasing number of layers on which we match the texture representation we find that we generate images with increasing degree of naturalness (rows 2–5; labels\\non the left indicate the top-most layer included). The source textures in the first three columns were\\npreviously used by Portilla and Simoncelli [21]. For better comparison we also show their results\\n(last row). The last column shows textures generated from a non-texture image to give a better\\nintuition about how the texture model represents image information.\\n5\\n\\n\\x0cA ~1k parameters\\n\\n~10k parameters\\n\\n~177k parameters\\n\\n~852k parameters\\n\\noriginal\\n\\nB\\n\\nconv1\\n\\nconv2\\n\\nconv3\\n\\nconv4\\n\\nconv5\\n\\nC\\n\\nconv1_1\\n\\npool1\\n\\npool2\\n\\npool3\\n\\npool4\\n\\nFigure 3: A, Number of parameters in the texture model. We explore several ways to reduce the\\nnumber of parameters in the texture model (see main text) and compare the results. B, Textures\\ngenerated from the different layers of the caffe reference network [12, 15]. The textures are of\\nlesser quality than those generated with the VGG network. C, Textures generated with the VGG\\narchitecture but random weights. Texture synthesis fails in this case, indicating that learned filters\\nare crucial for texture generation.\\n(Fig. 2, first row). We can interpolate between these two extremes by using only the constraints\\nfrom all layers up to some intermediate layer. We find that the statistical structure of natural images\\nis matched on an increasing scale as the number of layers we use for texture generation increases.\\nWe did not include any layers above layer ‘pool4’ since this did not improve the quality of the\\nsynthesised textures. For comparability we used source textures that were previously used by Portilla\\nand Simoncelli [21] and also show the results of their texture model (Fig. 2, last row). 2\\nTo give a better intuition for how the texture synthesis works, we also show textures generated from\\na non-texture image taken from the ImageNet validation set [23] (Fig. 2, last column). Our algorithm\\nproduces a texturised version of the image that preserves local spatial information but discards the\\nglobal spatial arrangement of the image. The size of the regions in which spatial information is\\npreserved increases with the number of layers used for texture generation. This property can be\\nexplained by the increasing receptive field sizes of the units over the layers of the deep convolutional\\nneural network.\\nWhen using summary statistics from all layers of the convolutional neural network, the number\\nof parameters of the model is very large. For each layer with Nl feature maps, we match Nl ×\\n(Nl + 1)/2 parameters, so if we use all layers up to and including ‘pool4’, our model has ∼ 852k\\nparameters (Fig. 3A, fourth column). However, we find that this texture model is heavily overparameterised. In fact, when using only one layer on each scale in the network (i.e. ‘conv1 1’,\\n2\\nA curious finding is that the yellow box, which indicates the source of the original texture, is also placed\\ntowards the bottom left corner in the textures generated by our model. As our texture model does not store\\nany spatial information about the feature responses, the only possible explanation for such behaviour is that\\nsome features in the network explicitly encode the information at the image boundaries. This is exactly what\\nwe find when inspecting feature maps in the VGG network: Some feature maps, at least from layer ‘conv3 1’\\nonwards, only show high activations along their edges. This might originate from the zero-padding that is used\\nfor the convolutions in the VGG network and it could be interesting to investigate the effect of such padding on\\nlearning and object recognition performance.\\n\\n6\\n\\n\\x0cClassification performance\\n\\n1.0\\n0.8\\n0.6\\n0.4\\n\\ntop1 Gram\\ntop5 Gram\\ntop1 VGG\\ntop5 VGG\\n\\n0.2\\n0\\n\\npool1\\n\\npool2\\npool3\\npool4\\nDecoding layer\\n\\npool5\\n\\nFigure 4: Performance of a linear classifier on top of the texture representations in different layers in\\nclassifying objects from the ImageNet dataset. High-level information is made increasingly explicit\\nalong the hierarchy of our texture model.\\nand ‘pool1-4’), the model contains ∼ 177k parameters while hardly loosing any quality (Fig. 3A,\\nthird column). We can further reduce the number of parameters by doing PCA of the feature vector\\nin the different layers of the network and then constructing the Gram matrix only for the first k\\nprincipal components. By using the first 64 principal components for layers ‘conv1 1’, and ‘pool14’ we can further reduce the model to ∼ 10k parameters (Fig. 3A, second column). Interestingly,\\nconstraining only the feature map averages in layers ‘conv1 1’, and ‘pool1-4’, (1024 parameters),\\nalready produces interesting textures (Fig. 3A, first column). These ad hoc methods for parameter\\nreduction show that the texture representation can be compressed greatly with little effect on the\\nperceptual quality of the synthesised textures. Finding minimal set of parameters that reproduces\\nthe quality of the full model is an interesting topic of ongoing research and beyond the scope of the\\npresent paper. A larger number of natural textures synthesised with the ≈ 177k parameter model\\ncan be found in the Supplementary Material as well as on our website3 . There one can also observe\\nsome failures of the model in case of very regular, man-made structures (e.g. brick walls).\\nIn general, we find that the very deep architecture of the VGG network with small convolutional\\nfilters seems to be particularly well suited for texture generation purposes. When performing the\\nsame experiment with the caffe reference network [12], which is very similar to the AlexNet [15], the\\nquality of the generated textures decreases in two ways. First, the statistical structure of the source\\ntexture is not fully matched even when using all constraints (Fig 3B, ‘conv5’). Second, we observe\\nan artifactual grid that overlays the generated textures (Fig 3B). We believe that the artifactual grid\\noriginates from the larger receptive field sizes and strides in the caffe reference network.\\nWhile the results from the caffe reference network show that the architecture of the network is\\nimportant, the learned feature spaces are equally crucial for texture generation. When synthesising\\na texture with a network with the VGG architecture but random weights, texture generation fails\\n(Fig. 3C), underscoring the importance of using a trained network.\\nTo understand our texture features better in the context of the original object recognition task of the\\nnetwork, we evaluated how well object identity can be linearly decoded from the texture features\\nin different layers of the network. For each layer we computed the Gram-matrix representation of\\neach image in the ImageNet training set [23] and trained a linear soft-max classifier to predict object\\nidentity. As we were not interested in optimising prediction performance, we did not use any data\\naugmentation and trained and tested only on the 224 × 224 centre crop of the images. We computed\\nthe accuracy of these linear classifiers on the ImageNet validation set and compared them to the\\nperformance of the original VGG-19 network also evaluated on the 224 × 224 centre crops of the\\nvalidation images.\\nThe analysis suggests that our texture representation continuously disentangles object identity information (Fig. 4). Object identity can be decoded increasingly well over the layers. In fact, linear\\ndecoding from the final pooling layer performs almost as well as the original network, suggesting\\nthat our texture representation preserves almost all high-level information. At first sight this might\\nappear surprising since the texture representation does not necessarily preserve the global structure\\nof objects in non-texture images (Fig. 2, last column). However, we believe that this “inconsis3\\n\\nwww.bethgelab.org/deeptextures\\n\\n7\\n\\n\\x0ctency” is in fact to be expected and might provide an insight into how CNNs encode object identity.\\nThe convolutional representations in the network are shift-equivariant and the network’s task (object\\nrecognition) is agnostic to spatial information, thus we expect that object information can be read\\nout independently from the spatial information in the feature maps. We show that this is indeed the\\ncase: a linear classifier on the Gram matrix of layer ‘pool5’ comes close to the performance of the\\nfull network (87.7% vs. 88.6% top 5 accuracy, Fig. 4).\\n\\n6\\n\\nDiscussion\\n\\nWe introduced a new parametric texture model based on a high-performing convolutional neural\\nnetwork. Our texture model exceeds previous work as the quality of the textures synthesised using\\nour model shows a substantial improvement compared to the current state of the art in parametric\\ntexture synthesis (Fig. 2, fourth row compared to last row).\\nWhile our model is capable of producing natural textures of comparable quality to non-parametric\\ntexture synthesis methods, our synthesis procedure is computationally more expensive. Nevertheless, both in industry and academia, there is currently much effort taken in order to make the evaluation of deep neural networks more efficient [11, 4, 17]. Since our texture synthesis procedure\\nbuilds exactly on the same operations, any progress made in the general field of deep convolutional\\nnetworks is likely to be transferable to our texture synthesis method. Thus we expect considerable\\nimprovements in the practical applicability of our texture model in the near future.\\nBy computing the Gram matrices on feature maps, our texture model transforms the representations\\nfrom the convolutional neural network into a stationary feature space. This general strategy has\\nrecently been employed to improve performance in object recognition and detection [9] or texture\\nrecognition and segmentation [3]. In particular Cimpoi et al. report impressive performance in\\nmaterial recognition and scene segmentation by using a stationary Fisher-Vector representation built\\non the highest convolutional layer of readily trained neural networks [3]. In agreement with our\\nresults, they show that performance in natural texture recognition continuously improves when using\\nhigher convolutional layers as the input to their Fisher-Vector representation. As our main aim is\\nto synthesise textures, we have not evaluated the Gram matrix representation on texture recognition\\nbenchmarks, but would expect that it also provides a good feature space for those tasks.\\nIn recent years, texture models inspired by biological vision have provided a fruitful new analysis\\ntool for studying visual perception. In particular the parametric texture model proposed by Portilla and Simoncelli [21] has sparked a great number of studies in neuroscience and psychophysics\\n[8, 7, 1, 22, 20]. Our texture model is based on deep convolutional neural networks that are the\\nfirst artificial systems that rival biology in terms of difficult perceptual inference tasks such as object recognition [15, 25, 26]. At the same time, their hierarchical architecture and basic computational properties admit a fundamental similarity to real neural systems. Together with the increasing\\namount of evidence for the similarity of the representations in convolutional networks and those in\\nthe ventral visual pathway [29, 2, 14], these properties make them compelling candidate models for\\nstudying visual information processing in the brain. In fact, it was recently suggested that textures\\ngenerated from the representations of performance-optimised convolutional networks “may therefore prove useful as stimuli in perceptual or physiological investigations” [19]. We feel that our\\ntexture model is the first step in that direction and envision it to provide an exciting new tool in the\\nstudy of visual information processing in biological systems.\\nAcknowledgments\\nThis work was funded by the German National Academic Foundation (L.A.G.), the Bernstein Center\\nfor Computational Neuroscience (FKZ 01GQ1002) and the German Excellency Initiative through\\nthe Centre for Integrative Neuroscience Tübingen (EXC307)(M.B., A.S.E, L.A.G.)\\n\\nReferences\\n[1] B. Balas, L. Nakano, and R. Rosenholtz. A summary-statistic representation in peripheral vision explains\\nvisual crowding. Journal of vision, 9(12):13, 2009.\\n\\n8\\n\\n\\x0c[2] C. F. Cadieu, H. Hong, D. L. K. Yamins, N. Pinto, D. Ardila, E. A. Solomon, N. J. Majaj, and J. J.\\nDiCarlo. Deep Neural Networks Rival the Representation of Primate IT Cortex for Core Visual Object\\nRecognition. PLoS Comput Biol, 10(12):e1003963, December 2014.\\n[3] M. Cimpoi, S. Maji, and A. Vedaldi. Deep convolutional filter banks for texture recognition and segmentation. arXiv:1411.6836 [cs], November 2014. arXiv: 1411.6836.\\n[4] E. L. Denton, W. Zaremba, J. Bruna, Y. LeCun, and R. Fergus. Exploiting Linear Structure Within\\nConvolutional Networks for Efficient Evaluation. In NIPS, 2014.\\n[5] A. Efros and T. K. Leung. Texture synthesis by non-parametric sampling. In Computer Vision, 1999. The\\nProceedings of the Seventh IEEE International Conference on, volume 2, pages 1033–1038. IEEE, 1999.\\n[6] A. A. Efros and W. T. Freeman. Image quilting for texture synthesis and transfer. In Proceedings of the\\n28th annual conference on Computer graphics and interactive techniques, pages 341–346. ACM, 2001.\\n[7] J. Freeman and E. P. Simoncelli. Metamers of the ventral stream. Nature Neuroscience, 14(9):1195–1201,\\nSeptember 2011.\\n[8] J. Freeman, C. M. Ziemba, D. J. Heeger, E. P. Simoncelli, and A. J. Movshon. A functional and perceptual\\nsignature of the second visual area in primates. Nature Neuroscience, 16(7):974–981, July 2013.\\n[9] K. He, X. Zhang, S. Ren, and J. Sun. Spatial pyramid pooling in deep convolutional networks for visual\\nrecognition. arXiv preprint arXiv:1406.4729, 2014.\\n[10] D. J. Heeger and J. R. Bergen. Pyramid-based Texture Analysis/Synthesis. In Proceedings of the 22Nd\\nAnnual Conference on Computer Graphics and Interactive Techniques, SIGGRAPH ’95, pages 229–238,\\nNew York, NY, USA, 1995. ACM.\\n[11] M. Jaderberg, A. Vedaldi, and A. Zisserman. Speeding up Convolutional Neural Networks with Low\\nRank Expansions. In BMVC 2014, 2014.\\n[12] Y. Jia, E. Shelhamer, J. Donahue, S. Karayev, J. Long, R. Girshick, S. Guadarrama, and T. Darrell.\\nCaffe: Convolutional architecture for fast feature embedding. In Proceedings of the ACM International\\nConference on Multimedia, pages 675–678. ACM, 2014.\\n[13] B. Julesz. Visual Pattern Discrimination. IRE Transactions on Information Theory, 8(2), February 1962.\\n[14] S. Khaligh-Razavi and N. Kriegeskorte. Deep Supervised, but Not Unsupervised, Models May Explain\\nIT Cortical Representation. PLoS Comput Biol, 10(11):e1003915, November 2014.\\n[15] A. Krizhevsky, I. Sutskever, and G. E. Hinton. Imagenet classification with deep convolutional neural\\nnetworks. In Advances in Neural Information Processing Systems 27, pages 1097–1105, 2012.\\n[16] V. Kwatra, A. Schödl, I. Essa, G. Turk, and A. Bobick. Graphcut textures: image and video synthesis\\nusing graph cuts. In ACM Transactions on Graphics (ToG), volume 22, pages 277–286. ACM, 2003.\\n[17] V. Lebedev, Y. Ganin, M. Rakhuba, I. Oseledets, and V. Lempitsky. Speeding-up Convolutional Neural\\nNetworks Using Fine-tuned CP-Decomposition. arXiv preprint arXiv:1412.6553, 2014.\\n[18] Y. A. LeCun, L. Bottou, G. B. Orr, and K. R. Müller. Efficient backprop. In Neural networks: Tricks of\\nthe trade, pages 9–48. Springer, 2012.\\n[19] A. J. Movshon and E. P. Simoncelli. Representation of naturalistic image structure in the primate visual\\ncortex. Cold Spring Harbor Symposia on Quantitative Biology: Cognition, 2015.\\n[20] G. Okazawa, S. Tajima, and H. Komatsu. Image statistics underlying natural texture selectivity of neurons\\nin macaque V4. PNAS, 112(4):E351–E360, January 2015.\\n[21] J. Portilla and E. P. Simoncelli. A Parametric Texture Model Based on Joint Statistics of Complex Wavelet\\nCoefficients. International Journal of Computer Vision, 40(1):49–70, October 2000.\\n[22] R. Rosenholtz, J. Huang, A. Raj, B. J. Balas, and L. Ilie. A summary statistic representation in peripheral\\nvision explains visual search. Journal of vision, 12(4):14, 2012.\\n[23] O. Russakovsky, J. Deng, H. Su, J. Krause, S. Satheesh, S. Ma, Z. Huang, A. Karpathy, A. Khosla,\\nM. Bernstein, A. C. Berg, and L. Fei-Fei. ImageNet Large Scale Visual Recognition Challenge.\\narXiv:1409.0575 [cs], September 2014. arXiv: 1409.0575.\\n[24] E. P. Simoncelli and W. T. Freeman. The steerable pyramid: A flexible architecture for multi-scale\\nderivative computation. In Image Processing, International Conference on, volume 3, pages 3444–3444.\\nIEEE Computer Society, 1995.\\n[25] K. Simonyan and A. Zisserman. Very Deep Convolutional Networks for Large-Scale Image Recognition.\\narXiv:1409.1556 [cs], September 2014. arXiv: 1409.1556.\\n[26] C. Szegedy, W. Liu, Y. Jia, P. Sermanet, S. Reed, D. Anguelov, D. Erhan, V. Vanhoucke, and A. Rabinovich. Going Deeper with Convolutions. arXiv:1409.4842 [cs], September 2014. arXiv: 1409.4842.\\n[27] L. Wei, S. Lefebvre, V. Kwatra, and G. Turk. State of the art in example-based texture synthesis. In\\nEurographics 2009, State of the Art Report, EG-STAR, pages 93–117. Eurographics Association, 2009.\\n[28] L. Wei and M. Levoy. Fast texture synthesis using tree-structured vector quantization. In Proceedings\\nof the 27th annual conference on Computer graphics and interactive techniques, pages 479–488. ACM\\nPress/Addison-Wesley Publishing Co., 2000.\\n[29] D. L. K. Yamins, H. Hong, C. F. Cadieu, E. A. Solomon, D. Seibert, and J. J. DiCarlo. Performanceoptimized hierarchical models predict neural responses in higher visual cortex. PNAS, page 201403112,\\nMay 2014.\\n[30] C. Zhu, R. H. Byrd, P. Lu, and J. Nocedal. Algorithm 778: L-BFGS-B: Fortran subroutines for large-scale\\nbound-constrained optimization. ACM Transactions on Mathematical Software (TOMS), 23(4):550–560,\\n1997.\\n\\n9\\n\\n\\x0c')"
     },
     "execution_count": 14,
     "metadata": {},
     "output_type": "execute_result"
    }
   ],
   "source": [
    "res = cur.execute(\"\"\"select TITLE, PDFNAME as PDF, PAPERTEXT from papers limit 1\"\"\")\n",
    "res.fetchone()\n",
    "\n"
   ],
   "metadata": {
    "collapsed": false,
    "ExecuteTime": {
     "end_time": "2023-05-16T23:34:09.029306645Z",
     "start_time": "2023-05-16T23:34:08.983298647Z"
    }
   }
  },
  {
   "cell_type": "code",
   "execution_count": 17,
   "outputs": [],
   "source": [
    "df = pd.read_sql_query(\"\"\"select TITLE, PDFNAME as PDF, PAPERTEXT from papers limit 10\"\"\", con)\n",
    "df.head()\n",
    "df.to_feather(\"../data/paper_extracts_10.feather\")\n"
   ],
   "metadata": {
    "collapsed": false,
    "ExecuteTime": {
     "end_time": "2023-05-16T23:38:12.112739468Z",
     "start_time": "2023-05-16T23:38:12.072294159Z"
    }
   }
  },
  {
   "cell_type": "code",
   "execution_count": 25,
   "outputs": [],
   "source": [
    "from sentence_transformers import SentenceTransformer, util\n",
    "\n",
    "sentence_embedding_model = \"all-mpnet-base-v2\"\n",
    "model = SentenceTransformer(sentence_embedding_model)\n",
    "\n"
   ],
   "metadata": {
    "collapsed": false,
    "ExecuteTime": {
     "end_time": "2023-05-17T01:07:41.648988078Z",
     "start_time": "2023-05-17T01:07:36.368575205Z"
    }
   }
  },
  {
   "cell_type": "code",
   "execution_count": 20,
   "outputs": [
    {
     "name": "stdout",
     "output_type": "stream",
     "text": [
      "0.7980597615242004 Around 9 Million people live in London\n",
      "0.5350013375282288 London is the best city to live in!\n",
      "0.4947284162044525 London is known for its financial district\n"
     ]
    }
   ],
   "source": [
    "query = \"How many people live in London?\"\n",
    "docs = [\"Around 9 Million people live in London\", \"London is known for its financial district\", \"London is the best city to live in!\"]\n",
    "\n",
    "\n",
    "query_emb = model.encode(query)\n",
    "doc_emb = model.encode(docs)\n",
    "\n",
    "#Compute dot score between query and all document embeddings\n",
    "scores = util.dot_score(query_emb, doc_emb)[0].cpu().tolist()\n",
    "\n",
    "#Combine docs & scores\n",
    "doc_score_pairs = list(zip(docs, scores))\n",
    "\n",
    "#Sort by decreasing score\n",
    "doc_score_pairs = sorted(doc_score_pairs, key=lambda x: x[1], reverse=True)\n",
    "\n",
    "#Output passages & scores\n",
    "for doc, score in doc_score_pairs:\n",
    "    print(score, doc)"
   ],
   "metadata": {
    "collapsed": false,
    "ExecuteTime": {
     "end_time": "2023-05-16T23:53:39.435530851Z",
     "start_time": "2023-05-16T23:53:38.055888449Z"
    }
   }
  },
  {
   "cell_type": "code",
   "execution_count": 2,
   "outputs": [],
   "source": [
    "df = pd.read_feather(\"../data/paper_extracts_10.feather\")\n",
    "docs_headings = df[\"Title\"].to_list()\n",
    "docs_text = df[\"PaperText\"].to_list()\n",
    "#docs_headings_emb = model.encode(docs_headings)\n"
   ],
   "metadata": {
    "collapsed": false,
    "ExecuteTime": {
     "end_time": "2023-05-17T00:47:30.263914156Z",
     "start_time": "2023-05-17T00:47:30.242048474Z"
    }
   }
  },
  {
   "cell_type": "code",
   "execution_count": 3,
   "outputs": [],
   "source": [
    "token_num = 512\n",
    "\n",
    "def remove_non_ascii(string):\n",
    "    return string.encode('ascii', errors='ignore').decode()\n",
    "#full_text = remove_non_ascii(docs_text[0])\n",
    "\n",
    "\n",
    "#docs_text[0]"
   ],
   "metadata": {
    "collapsed": false,
    "ExecuteTime": {
     "end_time": "2023-05-17T00:47:46.375004088Z",
     "start_time": "2023-05-17T00:47:46.371691575Z"
    }
   }
  },
  {
   "cell_type": "code",
   "execution_count": 4,
   "outputs": [],
   "source": [
    "\n",
    "def split_full_text_into_chunks(full_text, token_num):\n",
    "    full_text_split = full_text.split(\"\\n\\n\")\n",
    "    embedding_segment = []\n",
    "    chunks = []\n",
    "    for txt_segment in full_text_split:\n",
    "        text_words = txt_segment.split(\" \")\n",
    "        if len(embedding_segment) + len(text_words) <= token_num:\n",
    "            embedding_segment = embedding_segment + text_words\n",
    "        else:\n",
    "            chunks.append(\" \".join(embedding_segment).replace(\"\\n\",\"\"))\n",
    "            embedding_segment = []\n",
    "    return chunks\n"
   ],
   "metadata": {
    "collapsed": false,
    "ExecuteTime": {
     "end_time": "2023-05-17T00:47:50.676089815Z",
     "start_time": "2023-05-17T00:47:50.672915017Z"
    }
   }
  },
  {
   "cell_type": "code",
   "execution_count": 18,
   "outputs": [
    {
     "name": "stdout",
     "output_type": "stream",
     "text": [
      "Splitting: Texture Synthesis Using Convolutional Neural Networks\n",
      "Splitting: Convolutional Neural Networks with Intra-Layer Recurrent Connections for Scene Labeling\n",
      "Splitting: Grammar as a Foreign Language\n",
      "Splitting: Recursive Training of 2D-3D Convolutional Networks for Neuronal Boundary Prediction\n",
      "Splitting: Generative Image Modeling Using Spatial LSTMs\n",
      "Splitting: Faster R-CNN: Towards Real-Time Object Detection with Region Proposal Networks\n",
      "Splitting: Weakly-supervised Disentangling with Recurrent Transformations for 3D View Synthesis\n",
      "Splitting: Exploring Models and Data for Image Question Answering\n",
      "Splitting: Are You Talking to a Machine? Dataset and Methods for Multilingual Image Question\n",
      "Splitting: Parallel Multi-Dimensional LSTM, With Application to Fast Biomedical Volumetric Image Segmentation\n"
     ]
    }
   ],
   "source": [
    "text_chunks_list = []\n",
    "for title, text in zip(docs_headings, docs_text):\n",
    "    print(f\"Splitting: {title}\")\n",
    "    text_chunks = split_full_text_into_chunks(remove_non_ascii(text), token_num)\n",
    "    for chunk in text_chunks:\n",
    "        heading_text_map = {\n",
    "            \"text_chunk\" : chunk,\n",
    "            \"title\": title\n",
    "        }\n",
    "        text_chunks_list.append(heading_text_map)\n"
   ],
   "metadata": {
    "collapsed": false,
    "ExecuteTime": {
     "end_time": "2023-05-17T00:54:03.984737Z",
     "start_time": "2023-05-17T00:54:03.941620577Z"
    }
   }
  },
  {
   "cell_type": "code",
   "execution_count": 23,
   "outputs": [],
   "source": [
    "df_chunks = pd.DataFrame(text_chunks_list)\n",
    "df_chunks.to_feather(\"../data/paper_extracts_chunked.feature\")"
   ],
   "metadata": {
    "collapsed": false,
    "ExecuteTime": {
     "end_time": "2023-05-17T00:55:39.356630317Z",
     "start_time": "2023-05-17T00:55:39.314895688Z"
    }
   }
  },
  {
   "cell_type": "code",
   "execution_count": 24,
   "outputs": [
    {
     "data": {
      "text/plain": "                                          text_chunk   \n0  Texture Synthesis Using Convolutional NeuralNe...  \\\n1  \n2 Convolutional neural network We use the VGG...   \n2  3 \ndifferent features. These feature correlati...   \n3  \nconv1_1pool1pool2pool3pool4originalPortilla &...   \n4  6 \nClassification performance 1.00.80.60.4 top...   \n\n                                               title  \n0  Texture Synthesis Using Convolutional Neural N...  \n1  Texture Synthesis Using Convolutional Neural N...  \n2  Texture Synthesis Using Convolutional Neural N...  \n3  Texture Synthesis Using Convolutional Neural N...  \n4  Texture Synthesis Using Convolutional Neural N...  ",
      "text/html": "<div>\n<style scoped>\n    .dataframe tbody tr th:only-of-type {\n        vertical-align: middle;\n    }\n\n    .dataframe tbody tr th {\n        vertical-align: top;\n    }\n\n    .dataframe thead th {\n        text-align: right;\n    }\n</style>\n<table border=\"1\" class=\"dataframe\">\n  <thead>\n    <tr style=\"text-align: right;\">\n      <th></th>\n      <th>text_chunk</th>\n      <th>title</th>\n    </tr>\n  </thead>\n  <tbody>\n    <tr>\n      <th>0</th>\n      <td>Texture Synthesis Using Convolutional NeuralNe...</td>\n      <td>Texture Synthesis Using Convolutional Neural N...</td>\n    </tr>\n    <tr>\n      <th>1</th>\n      <td>2 Convolutional neural network We use the VGG...</td>\n      <td>Texture Synthesis Using Convolutional Neural N...</td>\n    </tr>\n    <tr>\n      <th>2</th>\n      <td>3 \fdifferent features. These feature correlati...</td>\n      <td>Texture Synthesis Using Convolutional Neural N...</td>\n    </tr>\n    <tr>\n      <th>3</th>\n      <td>conv1_1pool1pool2pool3pool4originalPortilla &amp;...</td>\n      <td>Texture Synthesis Using Convolutional Neural N...</td>\n    </tr>\n    <tr>\n      <th>4</th>\n      <td>6 \fClassification performance 1.00.80.60.4 top...</td>\n      <td>Texture Synthesis Using Convolutional Neural N...</td>\n    </tr>\n  </tbody>\n</table>\n</div>"
     },
     "execution_count": 24,
     "metadata": {},
     "output_type": "execute_result"
    }
   ],
   "source": [
    "df_chunks = pd.read_feather(\"../data/paper_extracts_chunked.feature\")\n",
    "df_chunks.head()"
   ],
   "metadata": {
    "collapsed": false,
    "ExecuteTime": {
     "end_time": "2023-05-17T00:59:03.052810589Z",
     "start_time": "2023-05-17T00:59:03.004647225Z"
    }
   }
  },
  {
   "cell_type": "code",
   "execution_count": 36,
   "outputs": [],
   "source": [
    "chunks_emb = model.encode(df_chunks[\"text_chunk\"].tolist())\n"
   ],
   "metadata": {
    "collapsed": false,
    "ExecuteTime": {
     "end_time": "2023-05-17T01:17:08.804204500Z",
     "start_time": "2023-05-17T01:17:06.750029244Z"
    }
   }
  },
  {
   "cell_type": "code",
   "execution_count": 41,
   "outputs": [],
   "source": [
    "\n",
    "chunks_emb_list = [chunks_emb[i, :] for i in range(chunks_emb.shape[0])]\n",
    "df_chunks[\"embeddings\"] = chunks_emb_list"
   ],
   "metadata": {
    "collapsed": false,
    "ExecuteTime": {
     "end_time": "2023-05-17T01:26:56.664620535Z",
     "start_time": "2023-05-17T01:26:56.623036040Z"
    }
   }
  },
  {
   "cell_type": "code",
   "execution_count": 43,
   "outputs": [],
   "source": [
    "df_chunks.to_feather(\"../data/paper_extracts_embed.feature\")"
   ],
   "metadata": {
    "collapsed": false,
    "ExecuteTime": {
     "end_time": "2023-05-17T01:27:45.276162978Z",
     "start_time": "2023-05-17T01:27:45.268658090Z"
    }
   }
  }
 ],
 "metadata": {
  "kernelspec": {
   "display_name": "Python 3",
   "language": "python",
   "name": "python3"
  },
  "language_info": {
   "codemirror_mode": {
    "name": "ipython",
    "version": 2
   },
   "file_extension": ".py",
   "mimetype": "text/x-python",
   "name": "python",
   "nbconvert_exporter": "python",
   "pygments_lexer": "ipython2",
   "version": "2.7.6"
  }
 },
 "nbformat": 4,
 "nbformat_minor": 0
}
